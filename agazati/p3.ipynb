{
 "cells": [
  {
   "cell_type": "markdown",
   "id": "bc200a93-dd59-4b8c-9d1e-e54ef995d0e7",
   "metadata": {
    "deletable": false,
    "editable": false,
    "nbgrader": {
     "cell_type": "markdown",
     "checksum": "5c0a97087f38d758255661b7198b8653",
     "grade": false,
     "grade_id": "cell-888eabebaded2c52",
     "locked": true,
     "schema_version": 3,
     "solution": false,
     "task": false
    }
   },
   "source": [
    "![](wesselenyi.png)"
   ]
  },
  {
   "cell_type": "markdown",
   "id": "c811d324-bb90-452e-b52f-6ec5851ab7a7",
   "metadata": {
    "deletable": false,
    "editable": false,
    "nbgrader": {
     "cell_type": "markdown",
     "checksum": "f730b57621cd4fc9aa226a21bcfdf44f",
     "grade": false,
     "grade_id": "cell-0dbcab6a53779d50",
     "locked": true,
     "schema_version": 3,
     "solution": false,
     "task": false
    }
   },
   "source": [
    "---\n",
    "### Feladat: Karakterek száma a fájlban.\n",
    "- Írj egy függvényt __karakterek_szama__ néven \n",
    "- amely paraméterként egy fájlnevet kap és \n",
    "- visszatér a fájlban levő karakterek számával. ('\\n' karakterekkel együtt)"
   ]
  },
  {
   "cell_type": "code",
   "execution_count": null,
   "id": "c3363e4a-e3f2-413f-93c3-0ef5119f06fb",
   "metadata": {
    "deletable": false,
    "nbgrader": {
     "cell_type": "code",
     "checksum": "40bc872fea5894cf657c7df064c4db10",
     "grade": false,
     "grade_id": "cell-bb376e7d044330b8",
     "locked": false,
     "schema_version": 3,
     "solution": true,
     "task": false
    }
   },
   "outputs": [],
   "source": [
    "def karakterek_szama(fname):\n",
    "    \"\"\" Visszatér a fájlban levő karakterek számával.\n",
    "    \"\"\"\n",
    "    # YOUR CODE HERE\n",
    "    raise NotImplementedError()"
   ]
  },
  {
   "cell_type": "code",
   "execution_count": null,
   "id": "e881c57b-79e5-40f9-ba8b-00f0f4887446",
   "metadata": {
    "deletable": false,
    "editable": false,
    "nbgrader": {
     "cell_type": "code",
     "checksum": "125e97e8b8a05eecb4cae80094509ae4",
     "grade": true,
     "grade_id": "cell-de6a0a7f43b3020d",
     "locked": true,
     "points": 0,
     "schema_version": 3,
     "solution": false,
     "task": false
    }
   },
   "outputs": [],
   "source": [
    "# Ellenőrizd a függvényt a cella futtatásával! \n",
    "# Az assert csak hiba esetén ad visszajelzést.\n",
    "\n",
    "assert karakterek_szama(\"lorem.txt\") == 18047\n"
   ]
  },
  {
   "cell_type": "markdown",
   "id": "2d467404-6a01-441e-aa9f-6615f5ad0c31",
   "metadata": {
    "deletable": false,
    "editable": false,
    "nbgrader": {
     "cell_type": "markdown",
     "checksum": "df70f047b91a5e5c38ab46920b0dbd40",
     "grade": false,
     "grade_id": "cell-20fcd181f5951756",
     "locked": true,
     "schema_version": 3,
     "solution": false,
     "task": false
    }
   },
   "source": [
    "---  \n",
    "### Feladat: Szavak száma a fájlban.\n",
    "- Írj egy függvényt __szavak_szama__ néven \n",
    "- amely paraméterként egy fájlnevet kap és \n",
    "- visszatér a fájlban levő szavak számával."
   ]
  },
  {
   "cell_type": "code",
   "execution_count": null,
   "id": "dce13aff-00e9-4655-860b-532ce5faec64",
   "metadata": {
    "deletable": false,
    "nbgrader": {
     "cell_type": "code",
     "checksum": "22301cb5ad5e0d7723453763bd8c69c3",
     "grade": false,
     "grade_id": "cell-daa0ffeb0a720516",
     "locked": false,
     "schema_version": 3,
     "solution": true,
     "task": false
    }
   },
   "outputs": [],
   "source": [
    "def szavak_szama(fname):\n",
    "    \"\"\" Visszatér a fájlban levő szavak számával\n",
    "    \"\"\"\n",
    "    # YOUR CODE HERE\n",
    "    raise NotImplementedError()"
   ]
  },
  {
   "cell_type": "code",
   "execution_count": null,
   "id": "dbcda6a4-d179-445c-88bf-352e9cfae6a4",
   "metadata": {
    "deletable": false,
    "editable": false,
    "nbgrader": {
     "cell_type": "code",
     "checksum": "1debcdac6f4180c20417076f482bb843",
     "grade": true,
     "grade_id": "cell-7f65a4e846fe73d2",
     "locked": true,
     "points": 0,
     "schema_version": 3,
     "solution": false,
     "task": false
    }
   },
   "outputs": [],
   "source": [
    "# Ellenőrizd a függvényt a cella futtatásával! \n",
    "# Az assert csak hiba esetén ad visszajelzést.\n",
    "\n",
    "assert szavak_szama(\"lorem.txt\") == 2304"
   ]
  },
  {
   "cell_type": "markdown",
   "id": "847c5287-5290-44be-8c1a-e29d30296546",
   "metadata": {
    "deletable": false,
    "editable": false,
    "nbgrader": {
     "cell_type": "markdown",
     "checksum": "cb2bb543a2a4185eafda539275359f66",
     "grade": false,
     "grade_id": "cell-82039d9d570308dd",
     "locked": true,
     "schema_version": 3,
     "solution": false,
     "task": false
    }
   },
   "source": [
    "--- \n",
    "### Feladat: Sorok száma a fájlban. \n",
    "- A __sorok_szama__ függvény \n",
    "- visszatér a  fájlban levő sorok számával.   "
   ]
  },
  {
   "cell_type": "code",
   "execution_count": null,
   "id": "53f9c334-8e23-468f-999c-e084650c80f7",
   "metadata": {
    "deletable": false,
    "nbgrader": {
     "cell_type": "code",
     "checksum": "c5e60bd7aeedb6cf68efea485f09e723",
     "grade": false,
     "grade_id": "cell-67c37d5d9365c773",
     "locked": false,
     "schema_version": 3,
     "solution": true,
     "task": false
    }
   },
   "outputs": [],
   "source": [
    "def sorok_szama(fname):\n",
    "    \"\"\" Visszatér a  fájlban levő sorok számával.\n",
    "    \"\"\"\n",
    "    # YOUR CODE HERE\n",
    "    raise NotImplementedError()"
   ]
  },
  {
   "cell_type": "code",
   "execution_count": null,
   "id": "0abb44b7-46e1-46ce-ae3a-f3cde96695cd",
   "metadata": {
    "deletable": false,
    "editable": false,
    "nbgrader": {
     "cell_type": "code",
     "checksum": "b476b3223942cbaa6b44124f68792ab2",
     "grade": true,
     "grade_id": "cell-5283a66b81b454fd",
     "locked": true,
     "points": 0,
     "schema_version": 3,
     "solution": false,
     "task": false
    }
   },
   "outputs": [],
   "source": [
    "# Ellenőrizd a függvényt a cella futtatásával! \n",
    "# Az assert csak hiba esetén ad visszajelzést.\n",
    "\n",
    "assert sorok_szama(\"lorem.txt\") == 82"
   ]
  },
  {
   "cell_type": "markdown",
   "id": "9d38bb2e-f68d-4b60-b171-0a00c1b756a0",
   "metadata": {
    "deletable": false,
    "editable": false,
    "nbgrader": {
     "cell_type": "markdown",
     "checksum": "9561ca450601e59913cece8346bc9272",
     "grade": false,
     "grade_id": "cell-21de78a2da416d21",
     "locked": true,
     "schema_version": 3,
     "solution": false,
     "task": false
    }
   },
   "source": [
    "---\n",
    "### Feladat: r betük száma a fájlban. \n",
    "- Az __r_betuk_szama__ függvény, \n",
    "- visszatér a  fájlban levő 'r' betük számával."
   ]
  },
  {
   "cell_type": "code",
   "execution_count": null,
   "id": "58b0af99-1c89-44d2-80ec-d748e362e135",
   "metadata": {
    "deletable": false,
    "nbgrader": {
     "cell_type": "code",
     "checksum": "d3602ccc7c8a329af8d3850d927ad3cd",
     "grade": false,
     "grade_id": "cell-729dfd47dd6a219b",
     "locked": false,
     "schema_version": 3,
     "solution": true,
     "task": false
    }
   },
   "outputs": [],
   "source": [
    "def r_betuk_szama(fname):\n",
    "    \"\"\" Visszatér a  fájlban levő 'r' betük számával.\n",
    "    \"\"\"\n",
    "    # YOUR CODE HERE\n",
    "    raise NotImplementedError()"
   ]
  },
  {
   "cell_type": "code",
   "execution_count": null,
   "id": "0134e8f5-4187-4ab6-98c9-eb5637a66ae1",
   "metadata": {
    "deletable": false,
    "editable": false,
    "nbgrader": {
     "cell_type": "code",
     "checksum": "7cd8b580b401f8813e573ab8c48f197d",
     "grade": true,
     "grade_id": "cell-6dabef711482b83b",
     "locked": true,
     "points": 0,
     "schema_version": 3,
     "solution": false,
     "task": false
    }
   },
   "outputs": [],
   "source": [
    "# Ellenőrizd a függvényt a cella futtatásával! \n",
    "# Az assert csak hiba esetén ad visszajelzést.\n",
    "\n",
    "assert r_betuk_szama(\"lorem.txt\") == 790 "
   ]
  },
  {
   "cell_type": "markdown",
   "id": "e1b2ba47-a833-47d9-9c28-5d1488a1c419",
   "metadata": {
    "deletable": false,
    "editable": false,
    "nbgrader": {
     "cell_type": "markdown",
     "checksum": "e2c41695fc6c06ad7c530ed00c587f0a",
     "grade": false,
     "grade_id": "cell-49fd898456d5f357",
     "locked": true,
     "schema_version": 3,
     "solution": false,
     "task": false
    }
   },
   "source": [
    "---     \n",
    "###  Feladat: lorem szavak száma a fájlban. \n",
    "- A __lorem_szavak_szama__ függvény \n",
    "- visszatér a  fájlban levő \"lorem\" szavak számával."
   ]
  },
  {
   "cell_type": "code",
   "execution_count": null,
   "id": "1226edc1-9e84-4562-9a96-09427d6f9fd0",
   "metadata": {
    "deletable": false,
    "nbgrader": {
     "cell_type": "code",
     "checksum": "c4357220d40df7548fa66e3b83ece401",
     "grade": false,
     "grade_id": "cell-057879e74fdb7802",
     "locked": false,
     "schema_version": 3,
     "solution": true,
     "task": false
    }
   },
   "outputs": [],
   "source": [
    "def lorem_szavak_szama(fname):\n",
    "    \"\"\" visszatér a  fájlban levő \"lorem\" szavak számával.\n",
    "    \"\"\"\n",
    "    # YOUR CODE HERE\n",
    "    raise NotImplementedError()"
   ]
  },
  {
   "cell_type": "code",
   "execution_count": null,
   "id": "c001540b-fa55-4b62-b489-c2ff4dff0a87",
   "metadata": {
    "deletable": false,
    "editable": false,
    "nbgrader": {
     "cell_type": "code",
     "checksum": "61a8b5fe715a18a43f72532c3dc31622",
     "grade": true,
     "grade_id": "cell-45942e90c9d29bf6",
     "locked": true,
     "points": 0,
     "schema_version": 3,
     "solution": false,
     "task": false
    }
   },
   "outputs": [],
   "source": [
    "# Ellenőrizd a függvényt a cella futtatásával! \n",
    "# Az assert csak hiba esetén ad visszajelzést.\n",
    "\n",
    "assert lorem_szavak_szama(\"lorem.txt\") == 27 "
   ]
  },
  {
   "cell_type": "markdown",
   "id": "7d920bdc-6f04-4b20-9747-e295299f2a77",
   "metadata": {
    "deletable": false,
    "editable": false,
    "nbgrader": {
     "cell_type": "markdown",
     "checksum": "d7f1d285bf8992ef142c119d98670a65",
     "grade": false,
     "grade_id": "cell-d0a027c9ac877cef",
     "locked": true,
     "schema_version": 3,
     "solution": false,
     "task": false
    }
   },
   "source": [
    "---   \n",
    "### Feladat: A leggyakoribb karakter a fájlban. \n",
    "- A __leggyakoribb_karakter__ függvény \n",
    "- visszatér a  fájlban leggyakrabban előforduló karakterrel."
   ]
  },
  {
   "cell_type": "code",
   "execution_count": null,
   "id": "a5e81a3a-b53e-401e-ac25-96259818093a",
   "metadata": {
    "deletable": false,
    "nbgrader": {
     "cell_type": "code",
     "checksum": "024b8e5ab0c4943b8830e0b7c6a9eb55",
     "grade": false,
     "grade_id": "cell-6d5ce7faa4093d7a",
     "locked": false,
     "schema_version": 3,
     "solution": true,
     "task": false
    }
   },
   "outputs": [],
   "source": [
    "def leggyakoribb_karakter(fname):\n",
    "    \"\"\" Visszatér a  fájlban leggyakrabban előforduló karakterrel.\n",
    "    \"\"\"\n",
    "    # YOUR CODE HERE\n",
    "    raise NotImplementedError()"
   ]
  },
  {
   "cell_type": "code",
   "execution_count": null,
   "id": "18fe76e3-a40c-4355-b9d7-445a118ea421",
   "metadata": {
    "deletable": false,
    "editable": false,
    "nbgrader": {
     "cell_type": "code",
     "checksum": "5e18bc49fbcea18640863c3685cf8684",
     "grade": true,
     "grade_id": "cell-0953654025282246",
     "locked": true,
     "points": 0,
     "schema_version": 3,
     "solution": false,
     "task": false
    }
   },
   "outputs": [],
   "source": [
    "# Ellenőrizd a függvényt a cella futtatásával! \n",
    "# Az assert csak hiba esetén ad visszajelzést.\n",
    "\n",
    "assert leggyakoribb_karakter(\"lorem.txt\") ==  \"i\""
   ]
  },
  {
   "cell_type": "markdown",
   "id": "d3d2580f-af51-4a19-a898-c0500a47f57e",
   "metadata": {
    "deletable": false,
    "editable": false,
    "nbgrader": {
     "cell_type": "markdown",
     "checksum": "8f1144cd7c4e45ee7141cbe50ccbf2a1",
     "grade": false,
     "grade_id": "cell-ae5a65908f9534b5",
     "locked": true,
     "schema_version": 3,
     "solution": false,
     "task": false
    }
   },
   "source": [
    "---\n",
    "### Feladat: A leghosszabb sor hossza a fájlban. \n",
    "- A __leghosszabb_sor_hossza__ függvény \n",
    "- visszatér a  fájlban levő leghosszabb sor hosszával."
   ]
  },
  {
   "cell_type": "code",
   "execution_count": null,
   "id": "a642fce1-276d-4b58-b8b1-01c25df24ffa",
   "metadata": {
    "deletable": false,
    "nbgrader": {
     "cell_type": "code",
     "checksum": "e39367192c23e2e821987688746a8d6b",
     "grade": false,
     "grade_id": "cell-fe2563e13e08c7be",
     "locked": false,
     "schema_version": 3,
     "solution": true,
     "task": false
    }
   },
   "outputs": [],
   "source": [
    "def leghosszabb_sor_hossza(fname):\n",
    "    \"\"\" Visszatér a fájlban levő leghosszabb sor hosszával.\n",
    "    \"\"\"\n",
    "    # YOUR CODE HERE\n",
    "    raise NotImplementedError()"
   ]
  },
  {
   "cell_type": "code",
   "execution_count": null,
   "id": "f71ff7a7-d1e1-4668-af77-2435e057be7a",
   "metadata": {
    "deletable": false,
    "editable": false,
    "nbgrader": {
     "cell_type": "code",
     "checksum": "2ae3213f359af1b08334745bccbd4171",
     "grade": true,
     "grade_id": "cell-1da6b9ac65b9b10f",
     "locked": true,
     "points": 0,
     "schema_version": 3,
     "solution": false,
     "task": false
    }
   },
   "outputs": [],
   "source": [
    "# Ellenőrizd a függvényt a cella futtatásával! \n",
    "# Az assert csak hiba esetén ad visszajelzést.\n",
    "\n",
    "assert leghosszabb_sor_hossza(\"lorem.txt\") == 304"
   ]
  },
  {
   "cell_type": "markdown",
   "id": "ba583744-bfdc-4829-843c-a73662d97c63",
   "metadata": {
    "deletable": false,
    "editable": false,
    "nbgrader": {
     "cell_type": "markdown",
     "checksum": "f7d0ee03d60824d4b8f8650ca4436050",
     "grade": false,
     "grade_id": "cell-8aa2b3163723a01d",
     "locked": true,
     "schema_version": 3,
     "solution": false,
     "task": false
    }
   },
   "source": [
    "---\n",
    "### Feladat: Téglalap osztály definiálása. [Objektumorientált programozás]\n",
    "- Hozz létre egy osztályt __Teglalap__ néven.\n",
    "- A Teglalap osztály lehetővé teszi a téglalap oldalhosszúságainak tárolását.\n",
    "- A Teglalap osztály rendelkezik egy kerulet() nevü metódussal, amely az osztály segítségével létrehozott objektum metódusaként visszaadja az adott objektum kerületét.\n",
    "- A Teglalap osztály rendelkezik egy terulet() nevü metódussal, amely az osztály segítségével létrehozott objektum metódusaként visszaadja az adott objektum területét."
   ]
  },
  {
   "cell_type": "code",
   "execution_count": null,
   "id": "ce5f6223-9f85-4829-95ce-36f9e4cb2b64",
   "metadata": {
    "deletable": false,
    "nbgrader": {
     "cell_type": "code",
     "checksum": "1c49ca9165d27cc9869f74e592d4bc04",
     "grade": false,
     "grade_id": "cell-6470cc86f346266c",
     "locked": false,
     "schema_version": 3,
     "solution": true,
     "task": false
    }
   },
   "outputs": [],
   "source": [
    "class Teglalap:   \n",
    "    # YOUR CODE HERE\n",
    "    raise NotImplementedError()"
   ]
  },
  {
   "cell_type": "code",
   "execution_count": null,
   "id": "d802d5a3-d384-462a-8121-343322d07a43",
   "metadata": {
    "deletable": false,
    "editable": false,
    "nbgrader": {
     "cell_type": "code",
     "checksum": "ee17a0ec30a6c2fcc3bfa131bd18e3ec",
     "grade": true,
     "grade_id": "cell-db6e05484c5bb48f",
     "locked": true,
     "points": 0,
     "schema_version": 3,
     "solution": false,
     "task": false
    }
   },
   "outputs": [],
   "source": [
    "# Ellenőrizd a függvényt a cella futtatásával! \n",
    "# Az assert csak hiba esetén ad visszajelzést.\n",
    "assert Teglalap(3, 4).oldal1 == 3\n",
    "assert Teglalap(3, 4).oldal2 == 4\n",
    "assert Teglalap(3, 4).kerulet() == 14\n",
    "assert Teglalap(3, 4).terulet() == 12"
   ]
  },
  {
   "cell_type": "markdown",
   "id": "e1a501fd-cc2f-4c50-933a-bfca4c1b44d1",
   "metadata": {
    "deletable": false,
    "editable": false,
    "nbgrader": {
     "cell_type": "markdown",
     "checksum": "233ab58e34c29e0b6ccef8ff870ec4dc",
     "grade": false,
     "grade_id": "cell-ed903ff47370c1a1",
     "locked": true,
     "schema_version": 3,
     "solution": false,
     "task": false
    }
   },
   "source": [
    "---\n",
    "### Feladat: Négyzet osztály definiálása. \n",
    "[Objektumorientált programozás]\n",
    "- Hozz létre egy osztályt __Negyzet__ néven.\n",
    "- A Negyzet osztály lehetővé teszi a negyzet oldalhosszúságának tárolását.\n",
    "- A Negyzet osztály rendelkezik egy kerulet() nevü metódussal, amely az osztály segítségével létrehozott objektum metódusaként visszaadja az adott objektum kerületét.\n",
    "- A Negyzet osztály rendelkezik egy terulet() nevü metódussal, amely az osztály segítségével létrehozott objektum metódusaként visszaadja az adott objektum területét."
   ]
  },
  {
   "cell_type": "code",
   "execution_count": null,
   "id": "ee882cbe-e563-4d11-8ae2-8101cbbaaed9",
   "metadata": {
    "deletable": false,
    "nbgrader": {
     "cell_type": "code",
     "checksum": "1689b131f82bdaa572a39fe496d04c0a",
     "grade": false,
     "grade_id": "cell-c50497c7afb2b424",
     "locked": false,
     "schema_version": 3,
     "solution": true,
     "task": false
    }
   },
   "outputs": [],
   "source": [
    "class Negyzet:   \n",
    "    # YOUR CODE HERE\n",
    "    raise NotImplementedError()"
   ]
  },
  {
   "cell_type": "code",
   "execution_count": null,
   "id": "8b1210c1-0f5e-4fdc-a0bc-7c085ef238f3",
   "metadata": {
    "deletable": false,
    "editable": false,
    "nbgrader": {
     "cell_type": "code",
     "checksum": "a6f06fa2e7a084490a60db21e0f4f156",
     "grade": true,
     "grade_id": "cell-b5c55e1b435109c0",
     "locked": true,
     "points": 0,
     "schema_version": 3,
     "solution": false,
     "task": false
    }
   },
   "outputs": [],
   "source": [
    "# Ellenőrizd a függvényt a cella futtatásával! \n",
    "# Az assert csak hiba esetén ad visszajelzést.\n",
    "\n",
    "assert Negyzet(3).kerulet() == 12\n",
    "assert Negyzet(3).terulet() == 9"
   ]
  },
  {
   "cell_type": "markdown",
   "id": "69760574-5ec4-4f31-bed1-b60ca23eaf44",
   "metadata": {
    "deletable": false,
    "editable": false,
    "nbgrader": {
     "cell_type": "markdown",
     "checksum": "3f1dcd72e7e9988edab3d9021f03336c",
     "grade": false,
     "grade_id": "cell-f6537439e134d8ef",
     "locked": true,
     "schema_version": 3,
     "solution": false,
     "task": false
    }
   },
   "source": [
    "---\n",
    "###  Feladat: Kocka osztály definiálása. \n",
    "[Objektumorientált programozás]\n",
    "- Hozz létre egy osztályt __Kocka__ néven.\n",
    "- A Kocka osztály lehetővé teszi a kocka oldalhosszúságának tárolását.\n",
    "- A Kocka osztály rendelkezik egy __terfogat()__ nevü metódussal, amely az osztály segítségével létrehozott objektum metódusaként visszaadja az adott objektum térfogatát.\n",
    "- A Kocka osztály rendelkezik egy __felszin()__ nevü metódussal, amely az osztály segítségével létrehozott objektum metódusaként visszaadja az adott objektum felszínét."
   ]
  },
  {
   "cell_type": "code",
   "execution_count": null,
   "id": "79e51b3b-49c7-467f-a128-92f088bc36bd",
   "metadata": {
    "deletable": false,
    "nbgrader": {
     "cell_type": "code",
     "checksum": "4ba9f3406542c2ec94078e8bf9893946",
     "grade": false,
     "grade_id": "cell-bd2597214ff09182",
     "locked": false,
     "schema_version": 3,
     "solution": true,
     "task": false
    }
   },
   "outputs": [],
   "source": [
    "class Kocka:   \n",
    "    # YOUR CODE HERE\n",
    "    raise NotImplementedError()"
   ]
  },
  {
   "cell_type": "code",
   "execution_count": null,
   "id": "396aa774-4929-4ea5-b18e-031b1ea2978b",
   "metadata": {
    "deletable": false,
    "editable": false,
    "nbgrader": {
     "cell_type": "code",
     "checksum": "28e3ec7e2fa9ed2428b7497e888d4d45",
     "grade": true,
     "grade_id": "cell-71fca5164aa5bb8e",
     "locked": true,
     "points": 0,
     "schema_version": 3,
     "solution": false,
     "task": false
    }
   },
   "outputs": [],
   "source": [
    "# Ellenőrizd a függvényt a cella futtatásával! \n",
    "# Az assert csak hiba esetén ad visszajelzést.\n",
    "\n",
    "assert Kocka(3).terfogat() == 27\n",
    "assert Kocka(3).felszin() == 54"
   ]
  },
  {
   "cell_type": "markdown",
   "id": "787f869f-50cc-4fd6-b19a-44a3e455c8a1",
   "metadata": {
    "deletable": false,
    "editable": false,
    "nbgrader": {
     "cell_type": "markdown",
     "checksum": "68ad36fdddd0ac02a269a48c6bbb545a",
     "grade": false,
     "grade_id": "cell-a8dfe6f4964331ac",
     "locked": true,
     "schema_version": 3,
     "solution": false,
     "task": false
    }
   },
   "source": [
    "---\n",
    "###  Feladat: String fájlba írása\n",
    "- Készíts függvényt __string_fajlba__ néven,\n",
    "- amely az első paraméterként kapott sztringet fájlba írja.\n",
    "- A fájl nevét második paraméterként kapja meg a függvény."
   ]
  },
  {
   "cell_type": "code",
   "execution_count": null,
   "id": "c4962be8-92f6-4734-8eed-45af6fcbebd8",
   "metadata": {
    "deletable": false,
    "nbgrader": {
     "cell_type": "code",
     "checksum": "ae8d6c964a3774c3a8730743659ae749",
     "grade": false,
     "grade_id": "cell-d751cb7438289bc9",
     "locked": false,
     "schema_version": 3,
     "solution": true,
     "task": false
    }
   },
   "outputs": [],
   "source": [
    "def string_fajlba(string, fajlnev):\n",
    "    # YOUR CODE HERE\n",
    "    raise NotImplementedError()"
   ]
  },
  {
   "cell_type": "code",
   "execution_count": null,
   "id": "2d9ff9fb-3d68-4ac5-9376-507f25973c3c",
   "metadata": {
    "deletable": false,
    "editable": false,
    "nbgrader": {
     "cell_type": "code",
     "checksum": "590913d3e3bd06630c7b252ea7e416f0",
     "grade": true,
     "grade_id": "cell-aea9af8a5da60e85",
     "locked": true,
     "points": 0,
     "schema_version": 3,
     "solution": false,
     "task": false
    }
   },
   "outputs": [],
   "source": [
    "# Ellenőrizd a függvényt a cella futtatásával! \n",
    "# Az assert csak hiba esetén ad visszajelzést.\n",
    "\n",
    "assert string_fajlba(\"csacska macska\", \"szoveg.txt\") == None\n",
    "assert open(\"szoveg.txt\").read().strip() == \"csacska macska\""
   ]
  },
  {
   "cell_type": "markdown",
   "id": "1d93beda-016c-4920-987c-2704e393808f",
   "metadata": {
    "deletable": false,
    "editable": false,
    "nbgrader": {
     "cell_type": "markdown",
     "checksum": "6f3273c734bb8dad2041e5f7d5edbf74",
     "grade": false,
     "grade_id": "cell-8834ffc3fe454600",
     "locked": true,
     "schema_version": 3,
     "solution": false,
     "task": false
    }
   },
   "source": [
    "---\n",
    "###  Feladat: Számtani sorozat fájlba írása\n",
    "- Készíts függvényt __szaz_szam_fajlba__ néven, \n",
    "- amely 1-tól 100-ig egyesével kiírja a számokat egy fájlba.\n",
    "- Minden szám kerüljön új sorba.\n",
    "- A fájl nevét paraméterként kapja meg a függvény."
   ]
  },
  {
   "cell_type": "code",
   "execution_count": null,
   "id": "ce3446e1-2fb5-4883-9470-d69ddf1906b1",
   "metadata": {
    "deletable": false,
    "nbgrader": {
     "cell_type": "code",
     "checksum": "9a5771e2b999330c44381a6265d64f6a",
     "grade": false,
     "grade_id": "cell-add782eddf508282",
     "locked": false,
     "schema_version": 3,
     "solution": true,
     "task": false
    }
   },
   "outputs": [],
   "source": [
    "def szaz_szam_fajlba(fajlnev):\n",
    "    # YOUR CODE HERE\n",
    "    raise NotImplementedError()\n",
    "\n"
   ]
  },
  {
   "cell_type": "code",
   "execution_count": null,
   "id": "969e3d2a-b2dd-436d-930c-e81ecb53920f",
   "metadata": {
    "deletable": false,
    "editable": false,
    "nbgrader": {
     "cell_type": "code",
     "checksum": "b531e9657f626956ce07f4029a879c19",
     "grade": true,
     "grade_id": "cell-843285b165d8b7ef",
     "locked": true,
     "points": 0,
     "schema_version": 3,
     "solution": false,
     "task": false
    }
   },
   "outputs": [],
   "source": [
    "# Ellenőrizd a függvényt a cella futtatásával! \n",
    "# Az assert csak hiba esetén ad visszajelzést.assert szaz_szam_fajlba(\"szazas.txt\") \n",
    "\n",
    "assert szaz_szam_fajlba(\"szazas.txt\") == None\n",
    "assert sum([int(i) for i in open(\"szazas.txt\")]) == 5050"
   ]
  },
  {
   "cell_type": "markdown",
   "id": "cf677fe2-6506-4b7c-9686-7afc0506cd9a",
   "metadata": {
    "deletable": false,
    "editable": false,
    "nbgrader": {
     "cell_type": "markdown",
     "checksum": "67cc64043d07c0b871aa7394f9e9addf",
     "grade": false,
     "grade_id": "cell-eca695635e573a47",
     "locked": true,
     "schema_version": 3,
     "solution": false,
     "task": false
    }
   },
   "source": [
    "---\n",
    "### Feladat: Első karakter a szövegfájlban\n",
    "- Írj egy függvényt __elso_karakter_a_fajlban__ néven, \n",
    "- amely visszatér egy szövegfájl első karakterével.\n",
    "- A függvény bemenő paramétere a fájl neve."
   ]
  },
  {
   "cell_type": "code",
   "execution_count": null,
   "id": "a2123d19-6a9f-4088-9171-1a2efe751d2e",
   "metadata": {
    "deletable": false,
    "nbgrader": {
     "cell_type": "code",
     "checksum": "32c1ab0f8af46635645ad2fe4c66124f",
     "grade": false,
     "grade_id": "cell-f96f206408697d8a",
     "locked": false,
     "schema_version": 3,
     "solution": true,
     "task": false
    }
   },
   "outputs": [],
   "source": [
    "def elso_karakter_a_fajlban(fajlnev):\n",
    "    \"\"\" Visszatér egy szövegfájl első karakterével.\n",
    "    \"\"\"\n",
    "    # YOUR CODE HERE\n",
    "    raise NotImplementedError()"
   ]
  },
  {
   "cell_type": "code",
   "execution_count": null,
   "id": "8469ab92-082a-43d7-8410-55aa21fd9253",
   "metadata": {
    "deletable": false,
    "editable": false,
    "nbgrader": {
     "cell_type": "code",
     "checksum": "863aa407db53e9649e87527d89200897",
     "grade": true,
     "grade_id": "cell-d59255f150829afd",
     "locked": true,
     "points": 0,
     "schema_version": 3,
     "solution": false,
     "task": false
    }
   },
   "outputs": [],
   "source": [
    "# Ellenőrizd a függvényt a cella futtatásával! \n",
    "# Az assert csak hiba esetén ad visszajelzést.\n",
    "\n",
    "assert elso_karakter_a_fajlban(\"lorem.txt\") == \"L\""
   ]
  },
  {
   "cell_type": "markdown",
   "id": "310d3d97-f5f4-4048-84f6-e03f96c238a6",
   "metadata": {
    "deletable": false,
    "editable": false,
    "nbgrader": {
     "cell_type": "markdown",
     "checksum": "6d8b1302b7f3d0a4e6ac201e9fdf4554",
     "grade": false,
     "grade_id": "cell-e995917916b02750",
     "locked": true,
     "schema_version": 3,
     "solution": false,
     "task": false
    }
   },
   "source": [
    "---\n",
    "###  Feladat: Utolsó karakter a szövegfájlban\n",
    "- Írj egy függvényt __utolso_karakter_a_fajlban__ néven, \n",
    "- amely visszatér egy szövegfájl utolsó karakterével.\n",
    "- A függvény bemenő paramétere a fájl neve."
   ]
  },
  {
   "cell_type": "code",
   "execution_count": null,
   "id": "f042c304-c035-4efe-abd8-011fc5133648",
   "metadata": {
    "deletable": false,
    "nbgrader": {
     "cell_type": "code",
     "checksum": "2086e5bce731b21ff20033efbfbe7aef",
     "grade": false,
     "grade_id": "cell-43f773e2052772e7",
     "locked": false,
     "schema_version": 3,
     "solution": true,
     "task": false
    }
   },
   "outputs": [],
   "source": [
    "def utolso_karakter_a_fajlban(fajlnev):\n",
    "    \"\"\" Visszatér egy szövegfájl utolsó karakterével\n",
    "    \"\"\"\n",
    "    # YOUR CODE HERE\n",
    "    raise NotImplementedError()"
   ]
  },
  {
   "cell_type": "code",
   "execution_count": null,
   "id": "54ec7c1e-2287-4e84-8d3e-328aba758d31",
   "metadata": {
    "deletable": false,
    "editable": false,
    "nbgrader": {
     "cell_type": "code",
     "checksum": "790778a63c99a9bb12ab9655ba7f92b3",
     "grade": true,
     "grade_id": "cell-02971e7540bad56b",
     "locked": true,
     "points": 0,
     "schema_version": 3,
     "solution": false,
     "task": false
    }
   },
   "outputs": [],
   "source": [
    "# Ellenőrizd a függvényt a cella futtatásával! \n",
    "# Az assert csak hiba esetén ad visszajelzést.\n",
    "\n",
    "assert utolso_karakter_a_fajlban(\"lorem.txt\") == \".\""
   ]
  },
  {
   "cell_type": "markdown",
   "id": "9dfd2eae-3a64-4102-9c3a-c6750f3ef004",
   "metadata": {
    "deletable": false,
    "editable": false,
    "nbgrader": {
     "cell_type": "markdown",
     "checksum": "c7b7dde947e3462b1fb247fa596ff713",
     "grade": false,
     "grade_id": "cell-3e7775b111855d51",
     "locked": true,
     "schema_version": 3,
     "solution": false,
     "task": false
    }
   },
   "source": [
    "---\n",
    "###  Feladat: Számok összege egy szövegfájlban.\n",
    "- Írj egy függvényt __szamok_osszege_a_fajlban__ néven \n",
    "- amely visszatér egy szövegfájlban levő számok összegével.\n",
    "- A függvény bemenő paramétere a fájl neve."
   ]
  },
  {
   "cell_type": "code",
   "execution_count": null,
   "id": "5ebf7360-c1e0-4b5a-98c5-7ab0ccba3517",
   "metadata": {
    "deletable": false,
    "nbgrader": {
     "cell_type": "code",
     "checksum": "346023a476975e70184bcef43eeda1bc",
     "grade": false,
     "grade_id": "cell-49d5ebb5ad567c21",
     "locked": false,
     "schema_version": 3,
     "solution": true,
     "task": false
    }
   },
   "outputs": [],
   "source": [
    "def szamok_osszege_a_fajlban(filename):\n",
    "    \"\"\" Visszatér egy szövegfájlban levő számok összegével.\n",
    "    \"\"\"\n",
    "    # YOUR CODE HERE\n",
    "    raise NotImplementedError()"
   ]
  },
  {
   "cell_type": "code",
   "execution_count": null,
   "id": "5dba3e99-f1c5-4445-b0da-d3f6fcedb15f",
   "metadata": {
    "deletable": false,
    "editable": false,
    "nbgrader": {
     "cell_type": "code",
     "checksum": "7adea60ce8b92aea1dc9cc9e6d083a30",
     "grade": true,
     "grade_id": "cell-8fe0cd7b2ddc22a9",
     "locked": true,
     "points": 0,
     "schema_version": 3,
     "solution": false,
     "task": false
    }
   },
   "outputs": [],
   "source": [
    "# Ellenőrizd a függvényt a cella futtatásával! \n",
    "# Az assert csak hiba esetén ad visszajelzést.\n",
    "\n",
    "assert szamok_osszege_a_fajlban(\"szamok1.txt\") == 16"
   ]
  },
  {
   "cell_type": "markdown",
   "id": "d7407846-dbcb-4d3f-a7fc-b72b0119d2da",
   "metadata": {
    "deletable": false,
    "editable": false,
    "nbgrader": {
     "cell_type": "markdown",
     "checksum": "6fb8a4cb832137f90799d044450fedca",
     "grade": false,
     "grade_id": "cell-ac6c4ae0ed9bd088",
     "locked": true,
     "schema_version": 3,
     "solution": false,
     "task": false
    }
   },
   "source": [
    "---\n",
    "###  Feladat: Számok átlaga egy szövegfájlban.\n",
    "- Írj egy függvényt __szamok_atlaga_a_fajlban__ néven, \n",
    "- amely visszatér egy szövegfájlban levő számok átlagával.\n",
    "- A függvény bemenő paramétere a fájl neve."
   ]
  },
  {
   "cell_type": "code",
   "execution_count": null,
   "id": "c171f605-c25f-46fe-ac92-d9a8ccd186c5",
   "metadata": {
    "deletable": false,
    "nbgrader": {
     "cell_type": "code",
     "checksum": "aec6cc607825866595c170df3599feb7",
     "grade": false,
     "grade_id": "cell-6a6bf9ea1f725a10",
     "locked": false,
     "schema_version": 3,
     "solution": true,
     "task": false
    }
   },
   "outputs": [],
   "source": [
    "def szamok_atlaga_a_fajlban(fajlnev):\n",
    "    \"\"\" visszatér egy szövegfájlban levő számok átlagával.\n",
    "    \"\"\"\n",
    "    # YOUR CODE HERE\n",
    "    raise NotImplementedError()"
   ]
  },
  {
   "cell_type": "code",
   "execution_count": null,
   "id": "9828f862-ec1e-4798-871d-f352a372c107",
   "metadata": {
    "deletable": false,
    "editable": false,
    "nbgrader": {
     "cell_type": "code",
     "checksum": "6b947174b572df1a8c081d0f7a027d93",
     "grade": true,
     "grade_id": "cell-ed1c799f412dfb21",
     "locked": true,
     "points": 0,
     "schema_version": 3,
     "solution": false,
     "task": false
    }
   },
   "outputs": [],
   "source": [
    "# Ellenőrizd a függvényt a cella futtatásával! \n",
    "# Az assert csak hiba esetén ad visszajelzést.\n",
    "\n",
    "assert szamok_atlaga_a_fajlban(\"szamok1.txt\") == 1.0"
   ]
  },
  {
   "cell_type": "markdown",
   "id": "5eec44d8-64f8-4c36-b068-e13812746edb",
   "metadata": {
    "deletable": false,
    "editable": false,
    "nbgrader": {
     "cell_type": "markdown",
     "checksum": "7ae5798c35a9c0537bd7ce8f41d89658",
     "grade": false,
     "grade_id": "cell-bf73e6f5f05e72ac",
     "locked": true,
     "schema_version": 3,
     "solution": false,
     "task": false
    }
   },
   "source": [
    "---\n",
    "###  Feladat: Páros számok száma egy szövegfájlban.\n",
    "- Írj egy függvényt __paros_szamok_szama_a_fajlban__ néven, \n",
    "- amely visszatér egy szövegfájlban levő páros számok számával.\n",
    "- A függvény bemenő paramétere a fájl neve."
   ]
  },
  {
   "cell_type": "code",
   "execution_count": null,
   "id": "78bee720-3d2a-4ce5-b3c5-0cf39ee6de3c",
   "metadata": {
    "deletable": false,
    "nbgrader": {
     "cell_type": "code",
     "checksum": "32e3648395dcbce7e1232c2dee5625b0",
     "grade": false,
     "grade_id": "cell-ca3bd840842fbaf0",
     "locked": false,
     "schema_version": 3,
     "solution": true,
     "task": false
    }
   },
   "outputs": [],
   "source": [
    "def paros_szamok_szama_a_fajlban(fajlnev):\n",
    "    \"\"\" Visszatér egy szövegfájlban levő páros számok számával.\n",
    "    \"\"\"\n",
    "    # YOUR CODE HERE\n",
    "    raise NotImplementedError()"
   ]
  },
  {
   "cell_type": "code",
   "execution_count": null,
   "id": "81cfcfa1-6bf8-4726-8b28-d865d346b1d2",
   "metadata": {
    "deletable": false,
    "editable": false,
    "nbgrader": {
     "cell_type": "code",
     "checksum": "4979f89ed249bcce2ba0c98ba70007ef",
     "grade": true,
     "grade_id": "cell-6ce134281a47781c",
     "locked": true,
     "points": 0,
     "schema_version": 3,
     "solution": false,
     "task": false
    }
   },
   "outputs": [],
   "source": [
    "# Ellenőrizd a függvényt a cella futtatásával! \n",
    "# Az assert csak hiba esetén ad visszajelzést.\n",
    "        \n",
    "assert paros_szamok_szama_a_fajlban(\"szamok1.txt\") == 10"
   ]
  },
  {
   "cell_type": "markdown",
   "id": "72b9a767-2fba-401e-9055-d30e9df8fa0e",
   "metadata": {
    "deletable": false,
    "editable": false,
    "nbgrader": {
     "cell_type": "markdown",
     "checksum": "bc702075557dc03bae0b0a32fba58821",
     "grade": false,
     "grade_id": "cell-99eebaf57ef55dcb",
     "locked": true,
     "schema_version": 3,
     "solution": false,
     "task": false
    }
   },
   "source": [
    "---\n",
    "###  Feladat: Páratlan számok száma egy szövegfájlban.\n",
    "- Írj egy függvényt __paratlan_szamok_szama_a_fajlban__ néven, \n",
    "- amely visszatér egy szövegfájlban levő páratlan számok számával.\n",
    "- A függvény bemenő paramétere a fájl neve."
   ]
  },
  {
   "cell_type": "code",
   "execution_count": null,
   "id": "4f970d48-14d1-4921-8e3a-e70024bfc32e",
   "metadata": {
    "deletable": false,
    "nbgrader": {
     "cell_type": "code",
     "checksum": "03b7f4742f42a7108f7f7841552d9ec8",
     "grade": false,
     "grade_id": "cell-7a3ad466ac8f60d3",
     "locked": false,
     "schema_version": 3,
     "solution": true,
     "task": false
    }
   },
   "outputs": [],
   "source": [
    "def paratlan_szamok_szama_a_fajlban(fajlnev):\n",
    "    \"\"\" \n",
    "    \"\"\"\n",
    "    # YOUR CODE HERE\n",
    "    raise NotImplementedError()"
   ]
  },
  {
   "cell_type": "code",
   "execution_count": null,
   "id": "b69cc944-a6d9-40a7-b335-7ead635abe4a",
   "metadata": {
    "deletable": false,
    "editable": false,
    "nbgrader": {
     "cell_type": "code",
     "checksum": "73087ee3510b9718a33496e89454c3ea",
     "grade": true,
     "grade_id": "cell-b68c66ff9456144a",
     "locked": true,
     "points": 0,
     "schema_version": 3,
     "solution": false,
     "task": false
    }
   },
   "outputs": [],
   "source": [
    "# Ellenőrizd a függvényt a cella futtatásával! \n",
    "# Az assert csak hiba esetén ad visszajelzést.\n",
    "\n",
    "assert paratlan_szamok_szama_a_fajlban(\"szamok1.txt\") == 6"
   ]
  },
  {
   "cell_type": "markdown",
   "id": "c64f70c8-0c65-4536-b558-9819acf9c895",
   "metadata": {
    "deletable": false,
    "editable": false,
    "nbgrader": {
     "cell_type": "markdown",
     "checksum": "8b58f2151fabed57e38bf65f24c35589",
     "grade": false,
     "grade_id": "cell-2595dac63267cff0",
     "locked": true,
     "schema_version": 3,
     "solution": false,
     "task": false
    }
   },
   "source": [
    "---\n",
    "###  Feladat: Pozitív számok száma egy szövegfájlban.\n",
    "- Írj egy függvényt __pozitiv_szamok_szama_a_fajlban__ néven,\n",
    "- amely visszatér egy szövegfájlban levő pozitiv számok számával.\n",
    "- A függvény bemenő paramétere a fájl neve."
   ]
  },
  {
   "cell_type": "code",
   "execution_count": null,
   "id": "58de8d2a-599a-4171-ba04-756bfa3fe0c1",
   "metadata": {
    "deletable": false,
    "nbgrader": {
     "cell_type": "code",
     "checksum": "f92b46e53f664d00db168f94de30915c",
     "grade": false,
     "grade_id": "cell-19ffcaa4d9cfc7c3",
     "locked": false,
     "schema_version": 3,
     "solution": true,
     "task": false
    }
   },
   "outputs": [],
   "source": [
    "def pozitiv_szamok_szama_a_fajlban(fajlnev):\n",
    "    \"\"\"  Visszatér egy szövegfájlban levő pozitiv számok számával.\n",
    "    \"\"\"\n",
    "    # YOUR CODE HERE\n",
    "    raise NotImplementedError()"
   ]
  },
  {
   "cell_type": "code",
   "execution_count": null,
   "id": "cba6a270-0b1d-4523-955d-11bcf4ae284c",
   "metadata": {
    "deletable": false,
    "editable": false,
    "nbgrader": {
     "cell_type": "code",
     "checksum": "5cd390a898816568f485adf9c9c1e50b",
     "grade": true,
     "grade_id": "cell-7a2dc69320523bd1",
     "locked": true,
     "points": 0,
     "schema_version": 3,
     "solution": false,
     "task": false
    }
   },
   "outputs": [],
   "source": [
    "# Ellenőrizd a függvényt a cella futtatásával! \n",
    "# Az assert csak hiba esetén ad visszajelzést.\n",
    "\n",
    "assert pozitiv_szamok_szama_a_fajlban(\"szamok1.txt\") == 10"
   ]
  },
  {
   "cell_type": "markdown",
   "id": "dc1696cd-8315-4e85-a222-75c12cf8eb93",
   "metadata": {
    "deletable": false,
    "editable": false,
    "nbgrader": {
     "cell_type": "markdown",
     "checksum": "ad52b4488e6694bb332a9fbdd27b16c1",
     "grade": false,
     "grade_id": "cell-57fa14c98b653797",
     "locked": true,
     "schema_version": 3,
     "solution": false,
     "task": false
    }
   },
   "source": [
    "---\n",
    "###  Feladat: Negatív számok száma egy szövegfájlban.\n",
    "- Írj egy függvényt __negativ_szamok_szama_a_fajlban__ néven, \n",
    "- amely visszatér egy szövegfájlban levő negativ számok számával.\n",
    "- A függvény bemenő paramétere a fájl neve."
   ]
  },
  {
   "cell_type": "code",
   "execution_count": null,
   "id": "de2e6c3a-7480-4c20-a2cc-7701b79b09d2",
   "metadata": {
    "deletable": false,
    "nbgrader": {
     "cell_type": "code",
     "checksum": "09a9065f6f86b1007c8d640022dd2805",
     "grade": false,
     "grade_id": "cell-8f85d488c68075bf",
     "locked": false,
     "schema_version": 3,
     "solution": true,
     "task": false
    }
   },
   "outputs": [],
   "source": [
    "def negativ_szamok_szama_a_fajlban(fajlnev):\n",
    "    \"\"\" Visszatér egy szövegfájlban levő negativ számok számával.\n",
    "    \"\"\"\n",
    "    # YOUR CODE HERE\n",
    "    raise NotImplementedError()"
   ]
  },
  {
   "cell_type": "code",
   "execution_count": null,
   "id": "c3bb8f05-a587-4f67-a064-57b0f892f872",
   "metadata": {
    "deletable": false,
    "editable": false,
    "nbgrader": {
     "cell_type": "code",
     "checksum": "048e16e53a423b32a6caec57ce98f6a8",
     "grade": true,
     "grade_id": "cell-fbc854a51eccbcf7",
     "locked": true,
     "points": 0,
     "schema_version": 3,
     "solution": false,
     "task": false
    }
   },
   "outputs": [],
   "source": [
    "# Ellenőrizd a függvényt a cella futtatásával! \n",
    "# Az assert csak hiba esetén ad visszajelzést.\n",
    "\n",
    "assert negativ_szamok_szama_a_fajlban(\"szamok1.txt\") == 4"
   ]
  },
  {
   "cell_type": "markdown",
   "id": "ea7531b1-cba6-472d-85f0-8738be33dc34",
   "metadata": {
    "deletable": false,
    "editable": false,
    "nbgrader": {
     "cell_type": "markdown",
     "checksum": "7ffa802ecd988f0e35690ed202192ef6",
     "grade": false,
     "grade_id": "cell-9b349dca8206340a",
     "locked": true,
     "schema_version": 3,
     "solution": false,
     "task": false
    }
   },
   "source": [
    "---\n",
    "###  Feladat: Legkisebb szám egy szövegfájlban.\n",
    "- Írj egy függvényt __legkisebb_szam_a_fajlban__ néven, \n",
    "- amely visszatér egy szövegfájlban levő lekisebb számmal.\n",
    "- A függvény bemenő paramétere a fájl neve."
   ]
  },
  {
   "cell_type": "code",
   "execution_count": null,
   "id": "16341e10-22b9-47ce-a476-4ce8857dad05",
   "metadata": {
    "deletable": false,
    "nbgrader": {
     "cell_type": "code",
     "checksum": "dae1a8efdc62929a1da6ad5fd94930a4",
     "grade": false,
     "grade_id": "cell-5c88b56c1822a52e",
     "locked": false,
     "schema_version": 3,
     "solution": true,
     "task": false
    }
   },
   "outputs": [],
   "source": [
    "def legkisebb_szam_a_fajlban(fajlnev):\n",
    "    \"\"\" Visszatér egy szövegfájlban levő lekisebb számmal.\n",
    "    \"\"\"\n",
    "    # YOUR CODE HERE\n",
    "    raise NotImplementedError()"
   ]
  },
  {
   "cell_type": "code",
   "execution_count": null,
   "id": "1b76af16-c1a7-467a-9ec5-cca2feba0836",
   "metadata": {
    "deletable": false,
    "editable": false,
    "nbgrader": {
     "cell_type": "code",
     "checksum": "a281d44127bc5171c0dc9ba4f077c524",
     "grade": true,
     "grade_id": "cell-ad1140ab4e1e4d0b",
     "locked": true,
     "points": 0,
     "schema_version": 3,
     "solution": false,
     "task": false
    }
   },
   "outputs": [],
   "source": [
    "# Ellenőrizd a függvényt a cella futtatásával! \n",
    "# Az assert csak hiba esetén ad visszajelzést.\n",
    "\n",
    "assert legkisebb_szam_a_fajlban(\"szamok1.txt\") == -6"
   ]
  },
  {
   "cell_type": "markdown",
   "id": "d1308503-9f7e-4c3a-a3a3-04a49a6d25a0",
   "metadata": {
    "deletable": false,
    "editable": false,
    "nbgrader": {
     "cell_type": "markdown",
     "checksum": "08a60437b833e0daccc0e5c9005dfff1",
     "grade": false,
     "grade_id": "cell-94b46d714e321fcb",
     "locked": true,
     "schema_version": 3,
     "solution": false,
     "task": false
    }
   },
   "source": [
    "---\n",
    "###  Feladat: Legnagyobb szám egy szövegfájlban.\n",
    "- Írj egy függvényt __legnagyobb_szam_a_fajlban____ néven, \n",
    "- amely visszatér egy szövegfájlban levő legnagyobb számmal.\n",
    "- A függvény bemenő paramétere a fájl neve."
   ]
  },
  {
   "cell_type": "code",
   "execution_count": null,
   "id": "41ed2032-08b0-4202-9dce-a943987d2d26",
   "metadata": {
    "deletable": false,
    "nbgrader": {
     "cell_type": "code",
     "checksum": "04adf1c1d36a997555c61ca4e2dec6cb",
     "grade": false,
     "grade_id": "cell-7f7075c60b68973e",
     "locked": false,
     "schema_version": 3,
     "solution": true,
     "task": false
    }
   },
   "outputs": [],
   "source": [
    "def legnagyobb_szam_a_fajlban(fajlnev):\n",
    "    \"\"\" amely visszatér egy szövegfájlban levő \n",
    "        legnagyobb számmal.\n",
    "    \"\"\"\n",
    "    # YOUR CODE HERE\n",
    "    raise NotImplementedError()"
   ]
  },
  {
   "cell_type": "code",
   "execution_count": null,
   "id": "7fcb6519-9642-45ca-8ca3-c7d31b7dea8c",
   "metadata": {
    "deletable": false,
    "editable": false,
    "nbgrader": {
     "cell_type": "code",
     "checksum": "8b294a9b29d09fff51dd77d49ab94819",
     "grade": true,
     "grade_id": "cell-593cb9f48899c3d5",
     "locked": true,
     "points": 0,
     "schema_version": 3,
     "solution": false,
     "task": false
    }
   },
   "outputs": [],
   "source": [
    "# Ellenőrizd a függvényt a cella futtatásával! \n",
    "# Az assert csak hiba esetén ad visszajelzést.\n",
    "\n",
    "assert legnagyobb_szam_a_fajlban(\"szamok1.txt\") == 4"
   ]
  },
  {
   "cell_type": "markdown",
   "id": "66375ee8-e558-4954-ae69-387a3aca4d1b",
   "metadata": {
    "deletable": false,
    "editable": false,
    "nbgrader": {
     "cell_type": "markdown",
     "checksum": "127aa54b81d3a6fa23da7468616b0aff",
     "grade": false,
     "grade_id": "cell-c7e98b3d0a44c0ba",
     "locked": true,
     "schema_version": 3,
     "solution": false,
     "task": false
    }
   },
   "source": [
    "---\n",
    "###  Feladat: Párosok egy szövegfájlból.\n",
    "- Írj egy függvényt __parosok_a_fajlbol__ néven, \n",
    "- amely visszatér a szövegfájlban levő páros számokkal mint listával.\n",
    "- A függvény bemenő paramétere a fájl neve."
   ]
  },
  {
   "cell_type": "code",
   "execution_count": null,
   "id": "3f953f08-ce49-441f-90dc-cf7cc303eaf0",
   "metadata": {
    "deletable": false,
    "nbgrader": {
     "cell_type": "code",
     "checksum": "18a090588e7e83053c3e01cca71bf58d",
     "grade": false,
     "grade_id": "cell-786a1fae9a9ff9d1",
     "locked": false,
     "schema_version": 3,
     "solution": true,
     "task": false
    }
   },
   "outputs": [],
   "source": [
    "def parosok_a_fajlbol(fajlnev):\n",
    "    \"\"\" visszatér a szövegfájlban levő \n",
    "        páros számokkal mint listával.\n",
    "    \"\"\"\n",
    "    # YOUR CODE HERE\n",
    "    raise NotImplementedError()"
   ]
  },
  {
   "cell_type": "code",
   "execution_count": null,
   "id": "bca213f5-56b3-430c-8ebe-9f67c6989177",
   "metadata": {
    "deletable": false,
    "editable": false,
    "nbgrader": {
     "cell_type": "code",
     "checksum": "e9b80d4c89c00098f28e8d327e59d77c",
     "grade": true,
     "grade_id": "cell-287145df49ccf30e",
     "locked": true,
     "points": 0,
     "schema_version": 3,
     "solution": false,
     "task": false
    }
   },
   "outputs": [],
   "source": [
    "# Ellenőrizd a függvényt a cella futtatásával! \n",
    "# Az assert csak hiba esetén ad visszajelzést.\n",
    "\n",
    "assert parosok_a_fajlbol(\"szamok1.txt\") == [4, 2, 4, 2, 0, -4, -6, 0, 4, 4]"
   ]
  },
  {
   "cell_type": "markdown",
   "id": "9dd7f876-424a-4821-987c-d9f1af01a18c",
   "metadata": {
    "deletable": false,
    "editable": false,
    "nbgrader": {
     "cell_type": "markdown",
     "checksum": "87c3fe9e3dc2f2d3bab4cff68ea56451",
     "grade": false,
     "grade_id": "cell-9c1256d012c1047f",
     "locked": true,
     "schema_version": 3,
     "solution": false,
     "task": false
    }
   },
   "source": [
    "---\n",
    "###  Feladat: Páratlanok egy szövegfájlból.\n",
    "- Írj egy függvényt __paratlanok_a_fajlbol__ néven, \n",
    "- amely visszatér a szövegfájlban levő páratlan számokkal mint listával.\n",
    "- A függvény bemenő paramétere a fájl neve."
   ]
  },
  {
   "cell_type": "code",
   "execution_count": null,
   "id": "b9f43061-9809-48a8-b0b5-a9be15b44f1b",
   "metadata": {
    "deletable": false,
    "nbgrader": {
     "cell_type": "code",
     "checksum": "0c8fe2578a952ad93fe1a1c681905a74",
     "grade": false,
     "grade_id": "cell-a5d4b40561f97845",
     "locked": false,
     "schema_version": 3,
     "solution": true,
     "task": false
    }
   },
   "outputs": [],
   "source": [
    "def paratlanok_a_fajlbol(fajlnev):\n",
    "    \"\"\" visszatér a szövegfájlban levő \n",
    "        páratlan számokkal mint listával.\n",
    "    \"\"\"\n",
    "    # YOUR CODE HERE\n",
    "    raise NotImplementedError()"
   ]
  },
  {
   "cell_type": "code",
   "execution_count": null,
   "id": "b4be2b54-b186-411d-9145-860fb900a751",
   "metadata": {
    "deletable": false,
    "editable": false,
    "nbgrader": {
     "cell_type": "code",
     "checksum": "70d453620ce428a7da38c55f23ffa45b",
     "grade": true,
     "grade_id": "cell-8c5cae6bc0a09235",
     "locked": true,
     "points": 0,
     "schema_version": 3,
     "solution": false,
     "task": false
    }
   },
   "outputs": [],
   "source": [
    "# Ellenőrizd a függvényt a cella futtatásával! \n",
    "# Az assert csak hiba esetén ad visszajelzést.\n",
    "\n",
    "assert paratlanok_a_fajlbol(\"szamok1.txt\") == [3, 1, 3, 1, -1, -1]"
   ]
  },
  {
   "cell_type": "markdown",
   "id": "8c0504ea-d24b-41ff-b0df-d96533db9463",
   "metadata": {
    "deletable": false,
    "editable": false,
    "nbgrader": {
     "cell_type": "markdown",
     "checksum": "69d1e40839f86ddad9f9a61f0b2aff36",
     "grade": false,
     "grade_id": "cell-6c62f1a9221734bb",
     "locked": true,
     "schema_version": 3,
     "solution": false,
     "task": false
    }
   },
   "source": [
    "---\n",
    "###  Feladat: Pozitívok egy szövegfájlból.\n",
    "- Írj egy függvényt __pozitiv_a_fajlbol__ néven, \n",
    "- amely visszatér a szövegfájlban levő pozitiv számokkal mint listával.\n",
    "- A függvény bemenő paramétere a fájl neve."
   ]
  },
  {
   "cell_type": "code",
   "execution_count": null,
   "id": "209fb57a-3c96-4759-a23b-c76745d0f060",
   "metadata": {
    "deletable": false,
    "nbgrader": {
     "cell_type": "code",
     "checksum": "94e9bfe25be3d9bd5882d5f95da3576b",
     "grade": false,
     "grade_id": "cell-244d3ffd521caa12",
     "locked": false,
     "schema_version": 3,
     "solution": true,
     "task": false
    }
   },
   "outputs": [],
   "source": [
    "def pozitiv_a_fajlbol(fajlnev):\n",
    "    \"\"\" visszatér a szövegfájlban levő \n",
    "        pozitiv számokkal mint listával.\n",
    "    \"\"\"\n",
    "    # YOUR CODE HERE\n",
    "    raise NotImplementedError()"
   ]
  },
  {
   "cell_type": "code",
   "execution_count": null,
   "id": "19615adb-f138-4dfb-9d93-a26f12394f82",
   "metadata": {
    "deletable": false,
    "editable": false,
    "nbgrader": {
     "cell_type": "code",
     "checksum": "aa4dcf598961945537901fb0cd170116",
     "grade": true,
     "grade_id": "cell-dcfb6d8757e960bb",
     "locked": true,
     "points": 0,
     "schema_version": 3,
     "solution": false,
     "task": false
    }
   },
   "outputs": [],
   "source": [
    "# Ellenőrizd a függvényt a cella futtatásával! \n",
    "# Az assert csak hiba esetén ad visszajelzést.\n",
    "\n",
    "assert pozitiv_a_fajlbol(\"szamok1.txt\") == [4, 3, 2, 1, 4, 3, 2, 1, 4, 4]"
   ]
  },
  {
   "cell_type": "markdown",
   "id": "076a43ca-cc28-4a61-b158-1b7b58f66b6f",
   "metadata": {
    "deletable": false,
    "editable": false,
    "nbgrader": {
     "cell_type": "markdown",
     "checksum": "cac07c3e377a51523dd56ac10ddbb763",
     "grade": false,
     "grade_id": "cell-c22f3a8216f2eac6",
     "locked": true,
     "schema_version": 3,
     "solution": false,
     "task": false
    }
   },
   "source": [
    "---\n",
    "###  Feladat: Negatívok egy szövegfájlból.\n",
    "- Írj egy függvényt __negativok_a_fajlbol__ néven, \n",
    "- amely visszatér a szövegfájlban levő negativ számokkal mint listával.\n",
    "- A függvény bemenő paramétere a fájl neve."
   ]
  },
  {
   "cell_type": "code",
   "execution_count": null,
   "id": "28704b8e-1543-4a29-9a54-2173ce58bef3",
   "metadata": {
    "deletable": false,
    "nbgrader": {
     "cell_type": "code",
     "checksum": "33ec86237f15e49ccad625480d356a45",
     "grade": false,
     "grade_id": "cell-096a9e44642000d5",
     "locked": false,
     "schema_version": 3,
     "solution": true,
     "task": false
    }
   },
   "outputs": [],
   "source": [
    "def negativok_a_fajlbol(fajlnev):\n",
    "    \"\"\" visszatér a szövegfájlban levő \n",
    "        negativ számokkal mint listával.\n",
    "    \"\"\"\n",
    "    # YOUR CODE HERE\n",
    "    raise NotImplementedError()"
   ]
  },
  {
   "cell_type": "code",
   "execution_count": null,
   "id": "62e4bec9-9293-4ea3-a663-5d4da14859d2",
   "metadata": {
    "deletable": false,
    "editable": false,
    "nbgrader": {
     "cell_type": "code",
     "checksum": "7f35d10fd6ddff7b7cbc5577b522273b",
     "grade": true,
     "grade_id": "cell-dd8f6807bfe3c189",
     "locked": true,
     "points": 0,
     "schema_version": 3,
     "solution": false,
     "task": false
    }
   },
   "outputs": [],
   "source": [
    "# Ellenőrizd a függvényt a cella futtatásával! \n",
    "# Az assert csak hiba esetén ad visszajelzést.\n",
    "\n",
    "assert negativok_a_fajlbol(\"szamok1.txt\") == [-1, -1, -4, -6] "
   ]
  },
  {
   "cell_type": "markdown",
   "id": "1db71ac7-746b-489c-8283-8a9c73ad4efb",
   "metadata": {
    "deletable": false,
    "editable": false,
    "nbgrader": {
     "cell_type": "markdown",
     "checksum": "8f070ba59a28ec1a5123775bb4bb1484",
     "grade": false,
     "grade_id": "cell-cf6f3a805b57071c",
     "locked": true,
     "schema_version": 3,
     "solution": false,
     "task": false
    }
   },
   "source": [
    "---\n",
    "###  Feladat: Leggyakoribb szám a szövegfájlban.\n",
    "- Írj egy függvényt __leggyakoribb_szam_a_fajlban__ néven, \n",
    "- amely visszatér a szövegfájlban levő leggyakoribb számmal.\n",
    "- A függvény bemenő paramétere a fájl neve."
   ]
  },
  {
   "cell_type": "code",
   "execution_count": null,
   "id": "af389f59-79f7-408d-abb7-95615dbb712e",
   "metadata": {
    "deletable": false,
    "nbgrader": {
     "cell_type": "code",
     "checksum": "a0822ed191da01bf4d3d31e50fae6167",
     "grade": false,
     "grade_id": "cell-e3ee2d11618b6dc8",
     "locked": false,
     "schema_version": 3,
     "solution": true,
     "task": false
    }
   },
   "outputs": [],
   "source": [
    "def leggyakoribb_szam_a_fajlban(fajlnev):\n",
    "    \"\"\" visszatér a szövegfájlban levő leggyakoribb számmal.\n",
    "    \"\"\"\n",
    "    # YOUR CODE HERE\n",
    "    raise NotImplementedError()"
   ]
  },
  {
   "cell_type": "code",
   "execution_count": null,
   "id": "4a797c13-88e5-427b-b361-465b8a862683",
   "metadata": {
    "deletable": false,
    "editable": false,
    "nbgrader": {
     "cell_type": "code",
     "checksum": "79390367e341b633123b72c5ef4b8ca2",
     "grade": true,
     "grade_id": "cell-386b26477134a90a",
     "locked": true,
     "points": 0,
     "schema_version": 3,
     "solution": false,
     "task": false
    }
   },
   "outputs": [],
   "source": [
    "# Ellenőrizd a függvényt a cella futtatásával! \n",
    "# Az assert csak hiba esetén ad visszajelzést.\n",
    "\n",
    "assert leggyakoribb_szam_a_fajlban(\"szamok1.txt\") == 4"
   ]
  },
  {
   "cell_type": "markdown",
   "id": "18b518ea-f56e-4417-a784-439779a69b5b",
   "metadata": {
    "deletable": false,
    "editable": false,
    "nbgrader": {
     "cell_type": "markdown",
     "checksum": "1c90e91fca8006ba320bf4578306c84d",
     "grade": false,
     "grade_id": "cell-f603c3910be4120b",
     "locked": true,
     "schema_version": 3,
     "solution": false,
     "task": false
    }
   },
   "source": [
    "---\n",
    "###  Feladat: Hárommal osztható számok a szövegfájlban.\n",
    "- Írj egy függvényt __harommal_oszthato_szamok_a_fajlban__ néven,\n",
    "- amely visszatér a szövegfájlban levő hárommal osztható számok listájával.\n",
    "- A függvény bemenő paramétere a fájl neve."
   ]
  },
  {
   "cell_type": "code",
   "execution_count": null,
   "id": "94bdbfb3-cd39-46b2-bc25-d7c3aecf27eb",
   "metadata": {
    "deletable": false,
    "nbgrader": {
     "cell_type": "code",
     "checksum": "ce8cd109667499dbebc28bd9f2f91698",
     "grade": false,
     "grade_id": "cell-7ffc5baa468ddacd",
     "locked": false,
     "schema_version": 3,
     "solution": true,
     "task": false
    }
   },
   "outputs": [],
   "source": [
    "def harommal_oszthato_szamok_a_fajlban(fajlnev):\n",
    "    \"\"\" visszatér a szövegfájlban levő \n",
    "        hárommal osztható számok listájával.\n",
    "    \"\"\"\n",
    "    # YOUR CODE HERE\n",
    "    raise NotImplementedError()"
   ]
  },
  {
   "cell_type": "code",
   "execution_count": null,
   "id": "5f658d17-e86b-46a4-855d-56a63487e362",
   "metadata": {
    "deletable": false,
    "editable": false,
    "nbgrader": {
     "cell_type": "code",
     "checksum": "244f5b1c00f69d5f8fe7e5f189d53b8e",
     "grade": true,
     "grade_id": "cell-439c544493266350",
     "locked": true,
     "points": 0,
     "schema_version": 3,
     "solution": false,
     "task": false
    }
   },
   "outputs": [],
   "source": [
    "# Ellenőrizd a függvényt a cella futtatásával! \n",
    "# Az assert csak hiba esetén ad visszajelzést.\n",
    "\n",
    "assert harommal_oszthato_szamok_a_fajlban(\"szamok1.txt\") == [3, 3, 0, -6, 0]"
   ]
  },
  {
   "cell_type": "markdown",
   "id": "c2414098-7048-403b-bf13-b9c5f82fcace",
   "metadata": {
    "deletable": false,
    "editable": false,
    "nbgrader": {
     "cell_type": "markdown",
     "checksum": "fe52c33d081edff2ef56ecdb6c327030",
     "grade": false,
     "grade_id": "cell-88ba3471463e9c21",
     "locked": true,
     "schema_version": 3,
     "solution": false,
     "task": false
    }
   },
   "source": [
    "---\n",
    "### Feladat: Neggyel osztható számok a szövegfájlban.\n",
    "\n",
    "- Írj egy függvényt __neggyel_oszthato_szamok_a_fajlban__ néven, - amely visszatér a szövegfájlban levő neggyel osztható számok listájával.\n",
    "- A függvény bemenő paramétere a fájl neve."
   ]
  },
  {
   "cell_type": "code",
   "execution_count": null,
   "id": "95254418-5bda-40d4-a482-50f27ac37af3",
   "metadata": {
    "deletable": false,
    "nbgrader": {
     "cell_type": "code",
     "checksum": "08f46e2b33f41c291c730b3a6ebe64b3",
     "grade": false,
     "grade_id": "cell-9b7eca8fbfdf74df",
     "locked": false,
     "schema_version": 3,
     "solution": true,
     "task": false
    }
   },
   "outputs": [],
   "source": [
    "def neggyel_oszthato_szamok_a_fajlban(fajlnev):\n",
    "    \"\"\" visszatér a szövegfájlban levő \n",
    "        neggyel osztható számok listájával.\n",
    "    \"\"\"\n",
    "    # YOUR CODE HERE\n",
    "    raise NotImplementedError()"
   ]
  },
  {
   "cell_type": "code",
   "execution_count": null,
   "id": "5d012495-f7ef-4824-9bc6-a59edceface0",
   "metadata": {
    "deletable": false,
    "editable": false,
    "nbgrader": {
     "cell_type": "code",
     "checksum": "d583dfdc68d19fe61df2c4421eec0465",
     "grade": true,
     "grade_id": "cell-9d090b4fd3dd29bc",
     "locked": true,
     "points": 0,
     "schema_version": 3,
     "solution": false,
     "task": false
    }
   },
   "outputs": [],
   "source": [
    "# Ellenőrizd a függvényt a cella futtatásával! \n",
    "# Az assert csak hiba esetén ad visszajelzést.\n",
    "\n",
    "assert neggyel_oszthato_szamok_a_fajlban(\"szamok1.txt\") == [4, 4, 0, -4, 0, 4, 4]"
   ]
  },
  {
   "cell_type": "code",
   "execution_count": null,
   "id": "9e4b23a3-1763-4470-9c6d-cc647fb82c98",
   "metadata": {},
   "outputs": [],
   "source": []
  }
 ],
 "metadata": {
  "kernelspec": {
   "display_name": "Python 3 (ipykernel)",
   "language": "python",
   "name": "python3"
  },
  "language_info": {
   "codemirror_mode": {
    "name": "ipython",
    "version": 3
   },
   "file_extension": ".py",
   "mimetype": "text/x-python",
   "name": "python",
   "nbconvert_exporter": "python",
   "pygments_lexer": "ipython3",
   "version": "3.10.10"
  }
 },
 "nbformat": 4,
 "nbformat_minor": 5
}
