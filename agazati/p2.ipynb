{
 "cells": [
  {
   "cell_type": "markdown",
   "id": "599224a3-5db4-4691-b95b-ec50133dfc14",
   "metadata": {
    "deletable": false,
    "editable": false,
    "nbgrader": {
     "cell_type": "markdown",
     "checksum": "6db29e29454595f8a4e72e21f5346202",
     "grade": false,
     "grade_id": "cell-884d8b94b5eaaacc",
     "locked": true,
     "schema_version": 3,
     "solution": false,
     "task": false
    }
   },
   "source": [
    "![](wesselenyi.png)"
   ]
  },
  {
   "cell_type": "markdown",
   "id": "85e4b593-8c8a-4a4b-a5c0-e00ca09d1a47",
   "metadata": {
    "deletable": false,
    "editable": false,
    "nbgrader": {
     "cell_type": "markdown",
     "checksum": "c23af4c440287be3df80a7055df71952",
     "grade": false,
     "grade_id": "cell-29ea9bc1a920a3f0",
     "locked": true,
     "schema_version": 3,
     "solution": false,
     "task": false
    }
   },
   "source": [
    "---\n",
    "### Feladat: Első karakter (2 pont)\n",
    "- Írj egy függvényt __elso_karakter__ néven, amely \n",
    "- visszatér az adott string első karakterével!"
   ]
  },
  {
   "cell_type": "code",
   "execution_count": null,
   "id": "4e162af7-d8e9-4d37-9cb0-fa68da986572",
   "metadata": {
    "deletable": false,
    "nbgrader": {
     "cell_type": "code",
     "checksum": "dcdb45cff78cee8b72298cf1f46f80f3",
     "grade": false,
     "grade_id": "cell-f1801f964d2ea24d",
     "locked": false,
     "schema_version": 3,
     "solution": true,
     "task": false
    }
   },
   "outputs": [],
   "source": [
    "def elso_karakter(string):\n",
    "    \"\"\" Visszatér a string első karakterével.\n",
    "    \"\"\"\n",
    "    # YOUR CODE HERE\n",
    "    raise NotImplementedError()"
   ]
  },
  {
   "cell_type": "code",
   "execution_count": null,
   "id": "93bfca0d-ebf4-4cd1-8e89-8fc126dd1ce6",
   "metadata": {
    "deletable": false,
    "editable": false,
    "nbgrader": {
     "cell_type": "code",
     "checksum": "cef5b8a25df0b6288938f49de2451810",
     "grade": true,
     "grade_id": "cell-07167482fe4c9a96",
     "locked": true,
     "points": 0,
     "schema_version": 3,
     "solution": false,
     "task": false
    }
   },
   "outputs": [],
   "source": [
    "# Ellenőrizd a függvényt a cella futtatásával! \n",
    "# Az assert csak hiba esetén ad visszajelzést.\n",
    "\n",
    "assert elso_karakter(\"Hello\") == \"H\""
   ]
  },
  {
   "cell_type": "markdown",
   "id": "743d59c9-f73d-4099-baa1-a3d9785f272c",
   "metadata": {
    "deletable": false,
    "editable": false,
    "nbgrader": {
     "cell_type": "markdown",
     "checksum": "03a3b29a5639f1e033835572aa84af92",
     "grade": false,
     "grade_id": "cell-bf35debd9798ea6f",
     "locked": true,
     "schema_version": 3,
     "solution": false,
     "task": false
    }
   },
   "source": [
    "---\n",
    "### Feladat: Utolsó karakter (2 pont)\n",
    "- Írj egy függvényt __utolso_karakter__ néven  \n",
    "- amely visszatér az adott string utolso karakterével!"
   ]
  },
  {
   "cell_type": "code",
   "execution_count": null,
   "id": "2afb232a-cc27-4829-a7ca-0b319f947329",
   "metadata": {
    "deletable": false,
    "nbgrader": {
     "cell_type": "code",
     "checksum": "a279d2f74160475360cf9a375210f496",
     "grade": false,
     "grade_id": "cell-f7811faeecd5318e",
     "locked": false,
     "schema_version": 3,
     "solution": true,
     "task": false
    }
   },
   "outputs": [],
   "source": [
    "def utolso_karakter(string):\n",
    "    \"\"\" Visszatér az adott string utolso karakterével.\n",
    "    \"\"\"\n",
    "    # YOUR CODE HERE\n",
    "    raise NotImplementedError()\n",
    "    "
   ]
  },
  {
   "cell_type": "code",
   "execution_count": null,
   "id": "1d3e597a-cdce-4e92-81d0-83b4c52f5586",
   "metadata": {
    "deletable": false,
    "editable": false,
    "nbgrader": {
     "cell_type": "code",
     "checksum": "92222226200389cba83d6cf3004a0622",
     "grade": true,
     "grade_id": "cell-94963cf785dc357b",
     "locked": true,
     "points": 0,
     "schema_version": 3,
     "solution": false,
     "task": false
    }
   },
   "outputs": [],
   "source": [
    "# Ellenőrizd a függvényt a cella futtatásával! \n",
    "# Az assert csak hiba esetén ad visszajelzést.\n",
    "\n",
    "assert utolso_karakter(\"Hello\") == \"o\""
   ]
  },
  {
   "cell_type": "markdown",
   "id": "e3851641-adb9-4cb0-9f41-568520d8fc9c",
   "metadata": {
    "deletable": false,
    "editable": false,
    "nbgrader": {
     "cell_type": "markdown",
     "checksum": "cf97622eb1e506c2cbdd8eb966c6f770",
     "grade": false,
     "grade_id": "cell-d3c9ed6c47992302",
     "locked": true,
     "schema_version": 3,
     "solution": false,
     "task": false
    }
   },
   "source": [
    "---\n",
    "### Feladat: Legkisebb szám a listában.  (2 pont)\n",
    "[Programozási tétel: Minimum kiválasztás]\n",
    "- Készíts függvényt __legkisebb__ néven,  \n",
    "- amely visszatér egy számokat tartalmazó lista legkisebb számával.\n",
    "- Figyelem! A feladat megoldása során nem használhatod a min függvényt!"
   ]
  },
  {
   "cell_type": "code",
   "execution_count": null,
   "id": "9eb75761-1166-47ea-a2ba-33963fe42960",
   "metadata": {
    "deletable": false,
    "nbgrader": {
     "cell_type": "code",
     "checksum": "81a1a80fa7888337d0fd573d79a39113",
     "grade": false,
     "grade_id": "cell-5525d313561ca77a",
     "locked": false,
     "schema_version": 3,
     "solution": true,
     "task": false
    }
   },
   "outputs": [],
   "source": [
    "def legkisebb(lista):\n",
    "    \"\"\" Visszatér egy számokat tartalmazó lista legkisebb számával.\n",
    "    \"\"\"\n",
    "    # YOUR CODE HERE\n",
    "    raise NotImplementedError()\n",
    "    "
   ]
  },
  {
   "cell_type": "code",
   "execution_count": null,
   "id": "60fee9e7-da28-4574-a304-8fa7cfda86cc",
   "metadata": {
    "deletable": false,
    "editable": false,
    "nbgrader": {
     "cell_type": "code",
     "checksum": "9a70ca011b08329900f53a9a70e71b5c",
     "grade": true,
     "grade_id": "cell-6e860b99809fa033",
     "locked": true,
     "points": 0,
     "schema_version": 3,
     "solution": false,
     "task": false
    }
   },
   "outputs": [],
   "source": [
    "# Ellenőrizd a függvényt a cella futtatásával! \n",
    "# Az assert csak hiba esetén ad visszajelzést.\n",
    "\n",
    "assert legkisebb( [7, 4, 9, -4, -8, 3]) == -8"
   ]
  },
  {
   "cell_type": "markdown",
   "id": "6b0515a4-fa9c-40c8-bad2-3b9a6efced87",
   "metadata": {
    "deletable": false,
    "editable": false,
    "nbgrader": {
     "cell_type": "markdown",
     "checksum": "8eabef26837dc70553c1cf2c276ac473",
     "grade": false,
     "grade_id": "cell-dc6826df596d3d04",
     "locked": true,
     "schema_version": 3,
     "solution": false,
     "task": false
    }
   },
   "source": [
    "---\n",
    "### Feladat: Legnagyobb szám a listában.  (2 pont)\n",
    "[Programozási tétel: Maximum kiválasztás]\n",
    "- Készíts függvényt __legnagyobb__ néven,  \n",
    "- amely visszatér egy számokat tartalmazó lista legnagyobb számával.\n",
    "- Figyelem! A feladat megoldása során nem használhatod a max függvényt!"
   ]
  },
  {
   "cell_type": "code",
   "execution_count": null,
   "id": "1f302bda-ff8b-4778-ad8c-6439ef1bee06",
   "metadata": {
    "deletable": false,
    "nbgrader": {
     "cell_type": "code",
     "checksum": "750e4da9bbc95b791a5c54d174f44af4",
     "grade": false,
     "grade_id": "cell-2eb1815d4f1cd448",
     "locked": false,
     "schema_version": 3,
     "solution": true,
     "task": false
    }
   },
   "outputs": [],
   "source": [
    "def legnagyobb(lista):\n",
    "    \"\"\" Visszatér egy számokat tartalmazó lista legnagyobb számával.\n",
    "    \"\"\"\n",
    "    # YOUR CODE HERE\n",
    "    raise NotImplementedError()\n",
    "    "
   ]
  },
  {
   "cell_type": "code",
   "execution_count": null,
   "id": "d2983794-10f0-4b60-93ab-a12790cf429d",
   "metadata": {
    "deletable": false,
    "editable": false,
    "nbgrader": {
     "cell_type": "code",
     "checksum": "f9800e1b50c96a021500defc55908e63",
     "grade": true,
     "grade_id": "cell-97380de94390ab2c",
     "locked": true,
     "points": 0,
     "schema_version": 3,
     "solution": false,
     "task": false
    }
   },
   "outputs": [],
   "source": [
    "# Ellenőrizd a függvényt a cella futtatásával! \n",
    "# Az assert csak hiba esetén ad visszajelzést.\n",
    "\n",
    "assert legnagyobb( [7, 4, 9, -4, -8, 3] ) == 9"
   ]
  },
  {
   "cell_type": "markdown",
   "id": "d7f9392b-16bf-48bc-ada0-58cd5b8b626d",
   "metadata": {
    "deletable": false,
    "editable": false,
    "nbgrader": {
     "cell_type": "markdown",
     "checksum": "ff6fa23fbb98c7da885ab826f8242ca1",
     "grade": false,
     "grade_id": "cell-5886d9dbc1b3e251",
     "locked": true,
     "schema_version": 3,
     "solution": false,
     "task": false
    }
   },
   "source": [
    "---\n",
    "### Feladat: Listaban levő számok összege.  (2 pont)\n",
    "[Programozási tétel: Összegzés]\n",
    "- Készíts függvényt __osszeg__ néven,  \n",
    "- amely visszatér egy számokat tartalmazó lista számainak összegével.\n",
    "- Figyelem! A feladat megoldása során nem használhatod a sum függvényt!"
   ]
  },
  {
   "cell_type": "code",
   "execution_count": null,
   "id": "cc328843-7a80-48df-9759-ab9d295cf50b",
   "metadata": {
    "deletable": false,
    "nbgrader": {
     "cell_type": "code",
     "checksum": "96cd99785826ec34840ee591831a1b39",
     "grade": false,
     "grade_id": "cell-b42288b4e32b1164",
     "locked": false,
     "schema_version": 3,
     "solution": true,
     "task": false
    }
   },
   "outputs": [],
   "source": [
    "def osszeg(lista):\n",
    "    \"\"\" Visszatér egy számokat tartalmazó lista számainak összegével.\n",
    "    \"\"\"\n",
    "    # YOUR CODE HERE\n",
    "    raise NotImplementedError()\n",
    "    "
   ]
  },
  {
   "cell_type": "code",
   "execution_count": null,
   "id": "420899fc-ddfc-4cfe-b085-9270eb28f5ce",
   "metadata": {
    "deletable": false,
    "editable": false,
    "nbgrader": {
     "cell_type": "code",
     "checksum": "28f7508217748d3ce6805e1e976390ee",
     "grade": true,
     "grade_id": "cell-536323f5d5592173",
     "locked": true,
     "points": 0,
     "schema_version": 3,
     "solution": false,
     "task": false
    }
   },
   "outputs": [],
   "source": [
    "# Ellenőrizd a függvényt a cella futtatásával! \n",
    "# Az assert csak hiba esetén ad visszajelzést.\n",
    "\n",
    "assert osszeg( [1, 2, 3, 4, 5, 6] ) == 21"
   ]
  },
  {
   "cell_type": "markdown",
   "id": "791d3662-f4c6-443e-8baf-4c6089f27502",
   "metadata": {
    "deletable": false,
    "editable": false,
    "nbgrader": {
     "cell_type": "markdown",
     "checksum": "e0704d41a4d1170e3e22077aa2d0ef64",
     "grade": false,
     "grade_id": "cell-cabd7e5b672f2970",
     "locked": true,
     "schema_version": 3,
     "solution": false,
     "task": false
    }
   },
   "source": [
    "---       \n",
    "### Feladat: Listában levő számok szorzata. (2 pont)\n",
    "- Készíts függvényt __szorzat__ néven,  \n",
    "- amely visszatér egy számokat tartalmazó lista számainak szorzatával."
   ]
  },
  {
   "cell_type": "code",
   "execution_count": null,
   "id": "7d4e3915-b104-4eea-b386-d051ef0436a7",
   "metadata": {
    "deletable": false,
    "nbgrader": {
     "cell_type": "code",
     "checksum": "fca915b428e234aa587eb5b5ac0c3c86",
     "grade": false,
     "grade_id": "cell-8356d19cbdb50ac4",
     "locked": false,
     "schema_version": 3,
     "solution": true,
     "task": false
    }
   },
   "outputs": [],
   "source": [
    "def szorzat(lista):\n",
    "    \"\"\" Visszatér egy számokat tartalmazó lista számainak szorzatával.\n",
    "    \"\"\"\n",
    "    # YOUR CODE HERE\n",
    "    raise NotImplementedError()\n",
    "    "
   ]
  },
  {
   "cell_type": "code",
   "execution_count": null,
   "id": "c727ecee-e835-4e1b-97c8-d0fef8a83a7c",
   "metadata": {
    "deletable": false,
    "editable": false,
    "nbgrader": {
     "cell_type": "code",
     "checksum": "c49d947f46783bdd8a35826c49a07370",
     "grade": true,
     "grade_id": "cell-a04d2a30d26ff7f9",
     "locked": true,
     "points": 0,
     "schema_version": 3,
     "solution": false,
     "task": false
    }
   },
   "outputs": [],
   "source": [
    "# Ellenőrizd a függvényt a cella futtatásával! \n",
    "# Az assert csak hiba esetén ad visszajelzést.\n",
    "\n",
    "assert szorzat( [1, 2, 3, 4, 5] )  == 120"
   ]
  },
  {
   "cell_type": "markdown",
   "id": "e011abab-665f-4aa0-9851-0a4a0a66287a",
   "metadata": {
    "deletable": false,
    "editable": false,
    "nbgrader": {
     "cell_type": "markdown",
     "checksum": "49585e92337b83972051fb6ddc545b8e",
     "grade": false,
     "grade_id": "cell-05e310495061f243",
     "locked": true,
     "schema_version": 3,
     "solution": false,
     "task": false
    }
   },
   "source": [
    "---    \n",
    "### Feladat: Páros számok száma a listában. (2 pont) \n",
    "[Programozási tétel: Megszámolás]\n",
    "- Készíts függvényt __parosok_szama__ néven,  \n",
    "- amely visszatér egy számokat tartalmazó lista páros számainak számával."
   ]
  },
  {
   "cell_type": "code",
   "execution_count": null,
   "id": "7b89d51d-0cb9-4bae-a744-625869163aed",
   "metadata": {
    "deletable": false,
    "nbgrader": {
     "cell_type": "code",
     "checksum": "1463d7ed74a2c2c84759fe3bb5ce622d",
     "grade": false,
     "grade_id": "cell-5120ec55a21e67ef",
     "locked": false,
     "schema_version": 3,
     "solution": true,
     "task": false
    }
   },
   "outputs": [],
   "source": [
    "def parosok_szama(lista):\n",
    "    \"\"\" Visszatér egy számokat tartalmazó lista páros számainak számával\n",
    "    \"\"\"\n",
    "    # YOUR CODE HERE\n",
    "    raise NotImplementedError()\n",
    "    "
   ]
  },
  {
   "cell_type": "code",
   "execution_count": null,
   "id": "ac59b3d1-2cf6-46e7-951e-673eed4ae90a",
   "metadata": {
    "deletable": false,
    "editable": false,
    "nbgrader": {
     "cell_type": "code",
     "checksum": "1e6149f8ca640aabc2ec0b796e963f54",
     "grade": true,
     "grade_id": "cell-2a8051b82bd4a682",
     "locked": true,
     "points": 0,
     "schema_version": 3,
     "solution": false,
     "task": false
    }
   },
   "outputs": [],
   "source": [
    "# Ellenőrizd a függvényt a cella futtatásával! \n",
    "# Az assert csak hiba esetén ad visszajelzést.\n",
    "\n",
    "assert parosok_szama( [7, 4, 9, -4, -8, 3, 1] ) == 3"
   ]
  },
  {
   "cell_type": "markdown",
   "id": "3628388c-7c3a-4d38-a1ec-9bc95365e9f1",
   "metadata": {
    "deletable": false,
    "editable": false,
    "nbgrader": {
     "cell_type": "markdown",
     "checksum": "40e243f47a61b93a6b2a86b20c809ebd",
     "grade": false,
     "grade_id": "cell-3b6164714a5352f5",
     "locked": true,
     "schema_version": 3,
     "solution": false,
     "task": false
    }
   },
   "source": [
    "---\n",
    "### Feladat: Páratlan számok száma a listában.  (2 pont)\n",
    "[Programozási tétel: Megszámolás]\n",
    "- Készíts függvényt __paratlanok_szama__ néven,  \n",
    "- amely visszatér egy számokat tartalmazó lista páros számainak számával."
   ]
  },
  {
   "cell_type": "code",
   "execution_count": null,
   "id": "8466da3f-4e76-4780-bfe6-4f3d6e6e3383",
   "metadata": {
    "deletable": false,
    "nbgrader": {
     "cell_type": "code",
     "checksum": "1766499260894d1a6b7b14cf49078762",
     "grade": false,
     "grade_id": "cell-c09dc4804a4ac6bc",
     "locked": false,
     "schema_version": 3,
     "solution": true,
     "task": false
    }
   },
   "outputs": [],
   "source": [
    "def paratlanok_szama(lista):\n",
    "    \"\"\" Visszatér egy számokat tartalmazó lista páros számainak számával.\n",
    "    \"\"\"\n",
    "    # YOUR CODE HERE\n",
    "    raise NotImplementedError()\n",
    "    "
   ]
  },
  {
   "cell_type": "code",
   "execution_count": null,
   "id": "f0e3ad45-e722-4854-b3e3-854ff29fc8db",
   "metadata": {
    "deletable": false,
    "editable": false,
    "nbgrader": {
     "cell_type": "code",
     "checksum": "93cdc6047e47fd0ad04c690948988380",
     "grade": true,
     "grade_id": "cell-2e28d2490c8c34b8",
     "locked": true,
     "points": 0,
     "schema_version": 3,
     "solution": false,
     "task": false
    }
   },
   "outputs": [],
   "source": [
    "# Ellenőrizd a függvényt a cella futtatásával! \n",
    "# Az assert csak hiba esetén ad visszajelzést.\n",
    "\n",
    "assert paratlanok_szama( [7, 4, 9, -4, -8, 3, 1]) == 4"
   ]
  },
  {
   "cell_type": "markdown",
   "id": "df1bb412-c9f2-4678-b825-73c162fb4dd1",
   "metadata": {
    "deletable": false,
    "editable": false,
    "nbgrader": {
     "cell_type": "markdown",
     "checksum": "5a5be4b3eda429ccf7ab3d4ac1def7b3",
     "grade": false,
     "grade_id": "cell-b5cb65be4b66ec3b",
     "locked": true,
     "schema_version": 3,
     "solution": false,
     "task": false
    }
   },
   "source": [
    "---\n",
    "### Feladat: Pozitív számok száma a listában.  (2 pont)\n",
    "[Programozási tétel: Megszámolás]\n",
    "- Készíts függvényt __pozitivok_szama__ néven,  \n",
    "- amely visszatér egy számokat tartalmazó lista pozitív számainak számával."
   ]
  },
  {
   "cell_type": "code",
   "execution_count": null,
   "id": "465e9bbf-95e7-4a02-80f0-de0807ed58d4",
   "metadata": {
    "deletable": false,
    "nbgrader": {
     "cell_type": "code",
     "checksum": "ee324b3f36d10c2371e30724276e5565",
     "grade": false,
     "grade_id": "cell-f029d6cb13c0f960",
     "locked": false,
     "schema_version": 3,
     "solution": true,
     "task": false
    }
   },
   "outputs": [],
   "source": [
    "def pozitivok_szama(lista):\n",
    "    \"\"\" visszatér egy számokat tartalmazó lista pozitív számainak számával.\n",
    "    \"\"\"\n",
    "    # YOUR CODE HERE\n",
    "    raise NotImplementedError()\n",
    "    "
   ]
  },
  {
   "cell_type": "code",
   "execution_count": null,
   "id": "9f447fbf-3580-49c6-a95d-ea6ef65db59b",
   "metadata": {
    "deletable": false,
    "editable": false,
    "nbgrader": {
     "cell_type": "code",
     "checksum": "93def3977758002178cd52a41690b2b5",
     "grade": true,
     "grade_id": "cell-e20dbc160b0081cc",
     "locked": true,
     "points": 0,
     "schema_version": 3,
     "solution": false,
     "task": false
    }
   },
   "outputs": [],
   "source": [
    "# Ellenőrizd a függvényt a cella futtatásával! \n",
    "# Az assert csak hiba esetén ad visszajelzést.\n",
    "\n",
    "assert pozitivok_szama( [-7, -4, 9, -4, -8, 3, 1, 0]) == 3"
   ]
  },
  {
   "cell_type": "markdown",
   "id": "a214ad51-e0ea-4348-af08-dfea10d11dc3",
   "metadata": {
    "deletable": false,
    "editable": false,
    "nbgrader": {
     "cell_type": "markdown",
     "checksum": "09681e63cf9d6990019d744e9d28f714",
     "grade": false,
     "grade_id": "cell-45a09eadb658d67e",
     "locked": true,
     "schema_version": 3,
     "solution": false,
     "task": false
    }
   },
   "source": [
    "---\n",
    "### Feladat: Negatív számok száma a listában.  (2 pont)\n",
    "[Programozási tétel: Megszámolás]\n",
    "- Készíts függvényt __negativok_szama__ néven,  \n",
    "- amely visszatér egy számokat tartalmazó lista negativ számainak számával.\n",
    "    "
   ]
  },
  {
   "cell_type": "code",
   "execution_count": null,
   "id": "71648778-ac72-44f6-8104-1362f6805b5a",
   "metadata": {
    "deletable": false,
    "nbgrader": {
     "cell_type": "code",
     "checksum": "28345655b7bd5756551876022b7b2b46",
     "grade": false,
     "grade_id": "cell-8be228e7211a4eb4",
     "locked": false,
     "schema_version": 3,
     "solution": true,
     "task": false
    }
   },
   "outputs": [],
   "source": [
    "def negativok_szama(lista):\n",
    "    \"\"\" Visszatér egy számokat tartalmazó lista negativ számainak számával.\n",
    "    \"\"\"\n",
    "    # YOUR CODE HERE\n",
    "    raise NotImplementedError()\n",
    "    "
   ]
  },
  {
   "cell_type": "code",
   "execution_count": null,
   "id": "28f31efa-c399-43c9-aaea-1126f4ee252d",
   "metadata": {
    "deletable": false,
    "editable": false,
    "nbgrader": {
     "cell_type": "code",
     "checksum": "7a616378ef6f848ad5a5e31442b3dd7b",
     "grade": true,
     "grade_id": "cell-6c7505d5ace32ac1",
     "locked": true,
     "points": 0,
     "schema_version": 3,
     "solution": false,
     "task": false
    }
   },
   "outputs": [],
   "source": [
    "# Ellenőrizd a függvényt a cella futtatásával! \n",
    "# Az assert csak hiba esetén ad visszajelzést.\n",
    "\n",
    "assert negativok_szama( [-7, -4, 9, -4, -8, 3, 1, 0]) == 4"
   ]
  },
  {
   "cell_type": "markdown",
   "id": "0da84c61-ca05-412f-8e66-cac606b88ba9",
   "metadata": {
    "deletable": false,
    "editable": false,
    "nbgrader": {
     "cell_type": "markdown",
     "checksum": "6ddc9c24c04cff97c20ecc7f6a2ba1aa",
     "grade": false,
     "grade_id": "cell-308f4a0b910d9741",
     "locked": true,
     "schema_version": 3,
     "solution": false,
     "task": false
    }
   },
   "source": [
    "---\n",
    "### Feladat: Benne van a szám a listában?  (2 pont)\n",
    "[Programozási tétel: Eldöntés]\n",
    "Készíts függvényt __benne_van_a_listaban__ néven, \n",
    "- amelynek első paramétere egy számokat tartalmazó lista, \n",
    "- a második paramétere egy szám.\n",
    "- A visszatérési érték __True__, ha  a szám benne van a listában.\n",
    "- A visszatérési érték __False__, ha  a szám nics benne a listában."
   ]
  },
  {
   "cell_type": "code",
   "execution_count": null,
   "id": "dc72dd70-e03a-4c31-954a-9b9efe467f4f",
   "metadata": {
    "deletable": false,
    "nbgrader": {
     "cell_type": "code",
     "checksum": "c2b5dd38d301a421a5977048a3c98c77",
     "grade": false,
     "grade_id": "cell-cdeb4f150ca62d6d",
     "locked": false,
     "schema_version": 3,
     "solution": true,
     "task": false
    }
   },
   "outputs": [],
   "source": [
    "def benne_van_a_listaban(lista, szam):\n",
    "    # YOUR CODE HERE\n",
    "    raise NotImplementedError()\n",
    "    "
   ]
  },
  {
   "cell_type": "code",
   "execution_count": null,
   "id": "51e7ac31-bd10-4cf6-a7b5-fb3696eaacc1",
   "metadata": {
    "deletable": false,
    "editable": false,
    "nbgrader": {
     "cell_type": "code",
     "checksum": "c2af3937a89946a9cdf511a87ef2f229",
     "grade": true,
     "grade_id": "cell-e9f57f7d0b5cea6a",
     "locked": true,
     "points": 0,
     "schema_version": 3,
     "solution": false,
     "task": false
    }
   },
   "outputs": [],
   "source": [
    "# Ellenőrizd a függvényt a cella futtatásával! \n",
    "# Az assert csak hiba esetén ad visszajelzést.\n",
    "\n",
    "assert benne_van_a_listaban([-7, -4, 9, -4, -8, 3, 1, 0], 2) == False\n",
    "assert benne_van_a_listaban([-7, -4, 9, -4, -8, 3, 1, 0], 9) == True"
   ]
  },
  {
   "cell_type": "markdown",
   "id": "9b128a6f-4086-4120-b56e-aeb8365a4fd1",
   "metadata": {
    "deletable": false,
    "editable": false,
    "nbgrader": {
     "cell_type": "markdown",
     "checksum": "40999c5fab63f342fdb4200bc9bf4652",
     "grade": false,
     "grade_id": "cell-de4b9a66f3685037",
     "locked": true,
     "schema_version": 3,
     "solution": false,
     "task": false
    }
   },
   "source": [
    "---\n",
    "### Feladat: Benne van a betü a stringben?  (2 pont)\n",
    "[Programozási tétel: Eldöntés]\n",
    "Készíts függvényt __benne_van_a_stringben__ néven,  \n",
    "- amelynek első paramétere egy string, \n",
    "- a második paramétere egy betü.\n",
    "- A visszatérési érték __True__, ha  a betü benne van a stringben.\n",
    "- A visszatérési érték __False__, ha  a betü nics benne a stringben."
   ]
  },
  {
   "cell_type": "code",
   "execution_count": null,
   "id": "74e63bec-12ef-4358-930f-d1148e00d6be",
   "metadata": {
    "deletable": false,
    "nbgrader": {
     "cell_type": "code",
     "checksum": "8f4ada6a095c5d7e29d6c0a03bfeda2d",
     "grade": false,
     "grade_id": "cell-8b65e5950aa64ec1",
     "locked": false,
     "schema_version": 3,
     "solution": true,
     "task": false
    }
   },
   "outputs": [],
   "source": [
    "def benne_van_a_stringben(string, betu):\n",
    "    # YOUR CODE HERE\n",
    "    raise NotImplementedError()\n",
    "    "
   ]
  },
  {
   "cell_type": "code",
   "execution_count": null,
   "id": "e67a1c4f-8573-480d-8e6c-f55c9f684476",
   "metadata": {
    "deletable": false,
    "editable": false,
    "nbgrader": {
     "cell_type": "code",
     "checksum": "a8d48a75f21659f34b085fecbf53616f",
     "grade": true,
     "grade_id": "cell-6fd270aac89d06c5",
     "locked": true,
     "points": 0,
     "schema_version": 3,
     "solution": false,
     "task": false
    }
   },
   "outputs": [],
   "source": [
    "# Ellenőrizd a függvényt a cella futtatásával! \n",
    "# Az assert csak hiba esetén ad visszajelzést.   \n",
    "\n",
    "assert benne_van_a_stringben(\"abrakadabra\", \"x\") == False\n",
    "assert benne_van_a_stringben(\"abrakadabra\", \"d\") == True"
   ]
  },
  {
   "cell_type": "markdown",
   "id": "360df653-648f-49df-bbf6-78a9e6bc99ef",
   "metadata": {
    "deletable": false,
    "editable": false,
    "nbgrader": {
     "cell_type": "markdown",
     "checksum": "c6cd546bb3c9ccfb2877027194f7d859",
     "grade": false,
     "grade_id": "cell-5bffbef7c788ea13",
     "locked": true,
     "schema_version": 3,
     "solution": false,
     "task": false
    }
   },
   "source": [
    "---\n",
    "### Feladat: Hányadik a listában?  (2 pont)\n",
    "[Programozási tétel: Kiválasztás] \n",
    "- A listában a szám garantáltan megtalálható, nem kell vizsgálni a meglétét.\n",
    "- Készíts függvényt __hanyadik_a_listaban__ néven,  \n",
    "- amelynek első paramétere egy számokat tartalmazó lista, \n",
    "- a második paramétere egy szám.\n",
    "- A visszatérési érték a paraméterként megadott szám első előfordulási helye a listában."
   ]
  },
  {
   "cell_type": "code",
   "execution_count": null,
   "id": "345a5ef8-efa6-4452-934a-1755eb900adc",
   "metadata": {
    "deletable": false,
    "nbgrader": {
     "cell_type": "code",
     "checksum": "6ab83993ffcba7c555f7450b719e4259",
     "grade": false,
     "grade_id": "cell-56f7f91594b049d7",
     "locked": false,
     "schema_version": 3,
     "solution": true,
     "task": false
    }
   },
   "outputs": [],
   "source": [
    "def hanyadik_a_listaban(lista, szam):\n",
    "    # YOUR CODE HERE\n",
    "    raise NotImplementedError()\n",
    "    "
   ]
  },
  {
   "cell_type": "code",
   "execution_count": null,
   "id": "7b99ba01-14ef-4e46-828e-9c86ef0b4da7",
   "metadata": {
    "deletable": false,
    "editable": false,
    "nbgrader": {
     "cell_type": "code",
     "checksum": "e2fb68a0c52910eb393178829335c62a",
     "grade": true,
     "grade_id": "cell-e41d3667b4b5994c",
     "locked": true,
     "points": 0,
     "schema_version": 3,
     "solution": false,
     "task": false
    }
   },
   "outputs": [],
   "source": [
    "# Ellenőrizd a függvényt a cella futtatásával! \n",
    "# Az assert csak hiba esetén ad visszajelzést.\n",
    "\n",
    "assert hanyadik_a_listaban([-7, -4, 9, -4, -8, 3, 1, 0], -7) == 0\n",
    "assert hanyadik_a_listaban([-7, -4, 9, -4, -8, 3, 1, 0],  9) == 2"
   ]
  },
  {
   "cell_type": "markdown",
   "id": "e774805b-2ac7-4658-87f2-be80da159744",
   "metadata": {
    "deletable": false,
    "editable": false,
    "nbgrader": {
     "cell_type": "markdown",
     "checksum": "5aa286ac10e5ef547954ed5690a6d0d2",
     "grade": false,
     "grade_id": "cell-9b3ba0e04e8bce94",
     "locked": true,
     "schema_version": 3,
     "solution": false,
     "task": false
    }
   },
   "source": [
    "---\n",
    "### Feladat: Hányadik a stringben?  (2 pont)\n",
    "[Programozási tétel: Kiválasztás]\n",
    "           A betü garantáltan megtalálható a stringben, nem kell vizsgálnunk a meglétét.\n",
    "Készíts függvényt __hanyadik_a_stringben__ néven, \n",
    "- amelynek első paramétere egy string, \n",
    "- a második paramétere egy betü.\n",
    "- A visszatérési érték a paraméterként megadott betü első előfordulási helye a stringben."
   ]
  },
  {
   "cell_type": "code",
   "execution_count": null,
   "id": "fb8a3d0e-38d5-4121-84d4-339b9dc1da08",
   "metadata": {
    "deletable": false,
    "nbgrader": {
     "cell_type": "code",
     "checksum": "ebea9811f8cbb3e37bc46c2ea58d86d1",
     "grade": false,
     "grade_id": "cell-8554dd5a5d10285e",
     "locked": false,
     "schema_version": 3,
     "solution": true,
     "task": false
    }
   },
   "outputs": [],
   "source": [
    "def hanyadik_a_stringben(string, betu):\n",
    "    # YOUR CODE HERE\n",
    "    raise NotImplementedError()\n",
    "    "
   ]
  },
  {
   "cell_type": "code",
   "execution_count": null,
   "id": "0307d6fd-c3d1-44ca-86c0-40190dcdfd8e",
   "metadata": {
    "deletable": false,
    "editable": false,
    "nbgrader": {
     "cell_type": "code",
     "checksum": "e9a6761ce40c01789d5e5e40a4e713fa",
     "grade": true,
     "grade_id": "cell-a755238535d248a7",
     "locked": true,
     "points": 0,
     "schema_version": 3,
     "solution": false,
     "task": false
    }
   },
   "outputs": [],
   "source": [
    "# Ellenőrizd a függvényt a cella futtatásával! \n",
    "# Az assert csak hiba esetén ad visszajelzést.\n",
    "\n",
    "assert hanyadik_a_stringben(\"abrakadabra\", \"a\") == 0\n",
    "assert hanyadik_a_stringben(\"abrakadabra\", \"k\") == 4"
   ]
  },
  {
   "cell_type": "markdown",
   "id": "a7e55c34-0d24-409a-8bea-c1ae217f99ec",
   "metadata": {
    "deletable": false,
    "editable": false,
    "nbgrader": {
     "cell_type": "markdown",
     "checksum": "fb98c1a5ecdee2e4c49347d156de7b67",
     "grade": false,
     "grade_id": "cell-66fed7b7f9be3c36",
     "locked": true,
     "schema_version": 3,
     "solution": false,
     "task": false
    }
   },
   "source": [
    "---\n",
    "### Feladat: Benne van-e a listában és hanyadik helyen?  (2 pont)\n",
    "[Programozási tétel: Keresés]\n",
    "Készíts függvényt __kereses_a_listaban__ néven,  \n",
    "- amelynek első paramétere egy számokat tartalmazó lista, \n",
    "- a második paramétere egy szám.\n",
    "- Ha a szám benne van a listában, akkor a visszatérési érték a paraméterként megadott szám első előfordulási helye a listában.\n",
    "- A visszatérési érték None, ha  a szám nics benne a listában."
   ]
  },
  {
   "cell_type": "code",
   "execution_count": null,
   "id": "e54b833f-5a5e-46a9-85a9-f177228da131",
   "metadata": {
    "deletable": false,
    "nbgrader": {
     "cell_type": "code",
     "checksum": "2ce57a1d94bc7020802ca18b95510349",
     "grade": false,
     "grade_id": "cell-63d814eb10833526",
     "locked": false,
     "schema_version": 3,
     "solution": true,
     "task": false
    }
   },
   "outputs": [],
   "source": [
    "def kereses_a_listaban(lista, szam):\n",
    "    # YOUR CODE HERE\n",
    "    raise NotImplementedError()\n",
    "        "
   ]
  },
  {
   "cell_type": "code",
   "execution_count": null,
   "id": "3d680123-7d8b-4d74-9bec-240a4cd4b284",
   "metadata": {
    "deletable": false,
    "editable": false,
    "nbgrader": {
     "cell_type": "code",
     "checksum": "6c329296dd82cf86d55084b729754b78",
     "grade": true,
     "grade_id": "cell-d772abc6c88e20b9",
     "locked": true,
     "points": 0,
     "schema_version": 3,
     "solution": false,
     "task": false
    }
   },
   "outputs": [],
   "source": [
    "# Ellenőrizd a függvényt a cella futtatásával! \n",
    "# Az assert csak hiba esetén ad visszajelzést.\n",
    "\n",
    "assert kereses_a_listaban([-7, -4, 9, -4, -8, 3, 1, 0], -7) == 0\n",
    "assert kereses_a_listaban([-7, -4, 9, -4, -8, 3, 1, 0],  9) == 2\n",
    "assert kereses_a_listaban([-7, -4, 9, -4, -8, 3, 1, 0],  2) == None"
   ]
  },
  {
   "cell_type": "markdown",
   "id": "142be28c-c420-49cb-a027-afe78ea8c521",
   "metadata": {
    "deletable": false,
    "editable": false,
    "nbgrader": {
     "cell_type": "markdown",
     "checksum": "22bea5e6bc961593b6c0ed2031ff34c0",
     "grade": false,
     "grade_id": "cell-f7f0cbe694d658ed",
     "locked": true,
     "schema_version": 3,
     "solution": false,
     "task": false
    }
   },
   "source": [
    "---\n",
    "### Feladat: Hányadik a stringben?  (2 pont)\n",
    "[Programozási tétel: Keresés]\n",
    "Készíts függvényt __kereses_a_stringben__ néven, \n",
    "- amelynek első paramétere egy string, \n",
    "- a második paramétere egy betü.\n",
    "- A visszatérési érték a paraméterként megadott betü első előfordulási helye a stringben. \n",
    "- A visszatérési érték None, ha  a betü nics benne a stringben."
   ]
  },
  {
   "cell_type": "code",
   "execution_count": null,
   "id": "7fca6753-e769-4268-a6df-77d6f37ed35a",
   "metadata": {
    "deletable": false,
    "nbgrader": {
     "cell_type": "code",
     "checksum": "da614269b2dc7b0d5f529822116948e6",
     "grade": false,
     "grade_id": "cell-b4465577eae39a2e",
     "locked": false,
     "schema_version": 3,
     "solution": true,
     "task": false
    }
   },
   "outputs": [],
   "source": [
    "def kereses_a_stringben(string, betu):\n",
    "    # YOUR CODE HERE\n",
    "    raise NotImplementedError()"
   ]
  },
  {
   "cell_type": "code",
   "execution_count": null,
   "id": "cdbe2506-8bec-469f-b455-6e67b2d8a0f6",
   "metadata": {
    "deletable": false,
    "editable": false,
    "nbgrader": {
     "cell_type": "code",
     "checksum": "b568cccce3216c6401e8101bc660d5fe",
     "grade": true,
     "grade_id": "cell-ed85c5f7be855735",
     "locked": true,
     "points": 0,
     "schema_version": 3,
     "solution": false,
     "task": false
    }
   },
   "outputs": [],
   "source": [
    "# Ellenőrizd a függvényt a cella futtatásával! \n",
    "# Az assert csak hiba esetén ad visszajelzést.\n",
    "\n",
    "assert kereses_a_stringben(\"abrakadabra\", \"a\") == 0\n",
    "assert kereses_a_stringben(\"abrakadabra\", \"k\") == 4\n",
    "assert kereses_a_stringben(\"abrakadabra\", \"s\") == None"
   ]
  },
  {
   "cell_type": "markdown",
   "id": "2a60a53a-7e0d-4587-8899-54aadd265513",
   "metadata": {
    "deletable": false,
    "editable": false,
    "nbgrader": {
     "cell_type": "markdown",
     "checksum": "efe7e0f13696f4395bfa4ca2b2f1409d",
     "grade": false,
     "grade_id": "cell-e9b962753124d40b",
     "locked": true,
     "schema_version": 3,
     "solution": false,
     "task": false
    }
   },
   "source": [
    "---    \n",
    "### Feladat: Páros számok kiválogatása egy listából.  (2 pont)\n",
    "[Programozási tétel: Kiválogatás]\n",
    "- Készíts függvényt __parosok_kivalogatasa néven__,\n",
    "- amely visszatér egy listával, \n",
    "- amely a paraméterként átadott számokat tartalmazó lista páros számait tartalmazza."
   ]
  },
  {
   "cell_type": "code",
   "execution_count": null,
   "id": "ba3adc3e-d4cc-46af-a151-51466c892965",
   "metadata": {
    "deletable": false,
    "nbgrader": {
     "cell_type": "code",
     "checksum": "426b83b6fca535488de7d6c05b07596b",
     "grade": false,
     "grade_id": "cell-0c25dfa5e4fba483",
     "locked": false,
     "schema_version": 3,
     "solution": true,
     "task": false
    }
   },
   "outputs": [],
   "source": [
    "def parosok_kivalogatasa(lista):\n",
    "    # YOUR CODE HERE\n",
    "    raise NotImplementedError()\n",
    "    "
   ]
  },
  {
   "cell_type": "code",
   "execution_count": null,
   "id": "38eac778-8caf-4605-918e-5919ffa93e07",
   "metadata": {
    "deletable": false,
    "editable": false,
    "nbgrader": {
     "cell_type": "code",
     "checksum": "8dfc665855de4b383f63f93e012ec5d0",
     "grade": true,
     "grade_id": "cell-56c4b6fa09dd2b99",
     "locked": true,
     "points": 0,
     "schema_version": 3,
     "solution": false,
     "task": false
    }
   },
   "outputs": [],
   "source": [
    "# Ellenőrizd a függvényt a cella futtatásával! \n",
    "# Az assert csak hiba esetén ad visszajelzést.\n",
    "\n",
    "assert parosok_kivalogatasa( [7, 4, 9, 4, 8, 3, 1, 12, 0] ) == [4, 4, 8, 12, 0]"
   ]
  },
  {
   "cell_type": "markdown",
   "id": "72cbdfc0-b592-43bb-94d8-7a3e7d48c3e6",
   "metadata": {
    "deletable": false,
    "editable": false,
    "nbgrader": {
     "cell_type": "markdown",
     "checksum": "bfda8d1c5449444aeab96556fdee6d7c",
     "grade": false,
     "grade_id": "cell-142e82a49806172a",
     "locked": true,
     "schema_version": 3,
     "solution": false,
     "task": false
    }
   },
   "source": [
    "---\n",
    "### Feladat: Páratlan számok számok kiválogatása egy listából. (2 pont)\n",
    "[Programozási tétel: Kiválogatás]\n",
    "- Készíts függvényt __paratlanok_kivalogatasa néven__,\n",
    "- amely visszatér egy listával, \n",
    "- amely a paraméterként átadott számokat tartalmazó lista páratlan számait tartalmazza."
   ]
  },
  {
   "cell_type": "code",
   "execution_count": null,
   "id": "4f1fe6d2-c265-460c-98b8-02ae90ac1150",
   "metadata": {
    "deletable": false,
    "nbgrader": {
     "cell_type": "code",
     "checksum": "5dad823f43b6f63388058852796afbf0",
     "grade": false,
     "grade_id": "cell-f27896f7360542b6",
     "locked": false,
     "schema_version": 3,
     "solution": true,
     "task": false
    }
   },
   "outputs": [],
   "source": [
    "def paratlanok_kivalogatasa(lista):\n",
    "    # YOUR CODE HERE\n",
    "    raise NotImplementedError()\n",
    "    "
   ]
  },
  {
   "cell_type": "code",
   "execution_count": null,
   "id": "533ee3fc-b9cb-4221-8407-32fff046344b",
   "metadata": {
    "deletable": false,
    "editable": false,
    "nbgrader": {
     "cell_type": "code",
     "checksum": "53859ff0ea17f9561c663f4d8fcbe49c",
     "grade": true,
     "grade_id": "cell-86c0a5263abff191",
     "locked": true,
     "points": 0,
     "schema_version": 3,
     "solution": false,
     "task": false
    }
   },
   "outputs": [],
   "source": [
    "# Ellenőrizd a függvényt a cella futtatásával! \n",
    "# Az assert csak hiba esetén ad visszajelzést.\n",
    "\n",
    "assert paratlanok_kivalogatasa( [7, 4, 9, 4, 8, 3, 1, 12, 0] ) == [7, 9, 3, 1]"
   ]
  },
  {
   "cell_type": "markdown",
   "id": "16510bdc-2c67-492b-8b78-e284ca9a5fa9",
   "metadata": {
    "deletable": false,
    "editable": false,
    "nbgrader": {
     "cell_type": "markdown",
     "checksum": "bdfce016b3fd518ccc9f077a79815e30",
     "grade": false,
     "grade_id": "cell-562db6416c61d9d4",
     "locked": true,
     "schema_version": 3,
     "solution": false,
     "task": false
    }
   },
   "source": [
    "---    \n",
    "### Feladat: Pozitív számok kiválogatása egy listából.  (2 pont)\n",
    " [Programozási tétel: Kiválogatás] \n",
    "- Készíts függvényt __pozitivok_kivalogatasa__ néven,\n",
    "- amely visszatér egy listával, \n",
    "- amely a paraméterként átadott számokat tartalmazó lista pozitiv számait tartalmazza. "
   ]
  },
  {
   "cell_type": "code",
   "execution_count": null,
   "id": "178b6f2f-7f63-4f5d-820f-e0a2bd4641fd",
   "metadata": {
    "deletable": false,
    "nbgrader": {
     "cell_type": "code",
     "checksum": "45f0a1486110a519343096c506849c3d",
     "grade": false,
     "grade_id": "cell-11cdfc8abf61b131",
     "locked": false,
     "schema_version": 3,
     "solution": true,
     "task": false
    }
   },
   "outputs": [],
   "source": [
    "def pozitivok_kivalogatasa(lista):\n",
    "    \"\"\" \n",
    "    \"\"\"\n",
    "    # YOUR CODE HERE\n",
    "    raise NotImplementedError()\n",
    "    "
   ]
  },
  {
   "cell_type": "code",
   "execution_count": null,
   "id": "fb24f7a3-5613-4ce2-b5a5-017238cd1595",
   "metadata": {
    "deletable": false,
    "editable": false,
    "nbgrader": {
     "cell_type": "code",
     "checksum": "38d0bb3d5e70515ee5487fe0c203b2fc",
     "grade": true,
     "grade_id": "cell-6f9bda5fa89e1b50",
     "locked": true,
     "points": 0,
     "schema_version": 3,
     "solution": false,
     "task": false
    }
   },
   "outputs": [],
   "source": [
    "# Ellenőrizd a függvényt a cella futtatásával! \n",
    "# Az assert csak hiba esetén ad visszajelzést.\n",
    "\n",
    "assert pozitivok_kivalogatasa( [7, 4, 9, -4, -8, 3, 1, 12, 0] ) == [7, 4, 9, 3, 1, 12]"
   ]
  },
  {
   "cell_type": "markdown",
   "id": "ab4b0a31-abd1-42d7-83de-1358a37eb7eb",
   "metadata": {
    "deletable": false,
    "editable": false,
    "nbgrader": {
     "cell_type": "markdown",
     "checksum": "2d568dd87c4873b5fad802f3ecd4733e",
     "grade": false,
     "grade_id": "cell-3f86224be2fc4237",
     "locked": true,
     "schema_version": 3,
     "solution": false,
     "task": false
    }
   },
   "source": [
    "---\n",
    "### Feladat: Negatív számok számok kiválogatása egy listából.  (2 pont)\n",
    "    [Programozási tétel: Kiválogatás]\n",
    "- Készíts függvényt __negatívok_kivalogatasa__ néven,\n",
    "- amely visszatér egy listával, \n",
    "- amely a paraméterként átadott számokat tartalmazó lista negatív számait tartalmazza."
   ]
  },
  {
   "cell_type": "code",
   "execution_count": null,
   "id": "146e4c49-1535-45e0-89cc-4231e2054e63",
   "metadata": {
    "deletable": false,
    "nbgrader": {
     "cell_type": "code",
     "checksum": "5cd702970d80d02eb7a84eb73e595659",
     "grade": false,
     "grade_id": "cell-dddc5a3873f39fff",
     "locked": false,
     "schema_version": 3,
     "solution": true,
     "task": false
    }
   },
   "outputs": [],
   "source": [
    "def negativok_kivalogatasa(lista):\n",
    "    # YOUR CODE HERE\n",
    "    raise NotImplementedError()\n",
    "    "
   ]
  },
  {
   "cell_type": "code",
   "execution_count": null,
   "id": "a9652479-bdbf-468d-bb8e-4d445c66b5db",
   "metadata": {
    "deletable": false,
    "editable": false,
    "nbgrader": {
     "cell_type": "code",
     "checksum": "f916955734e67b5f4c55570e88269293",
     "grade": true,
     "grade_id": "cell-1842274518266bcb",
     "locked": true,
     "points": 0,
     "schema_version": 3,
     "solution": false,
     "task": false
    }
   },
   "outputs": [],
   "source": [
    "# Ellenőrizd a függvényt a cella futtatásával! \n",
    "# Az assert csak hiba esetén ad visszajelzést.\n",
    "\n",
    "assert negativok_kivalogatasa( [7, 4, 9, -4, -8, 3, 1, 12, 0] ) == [-4, -8]"
   ]
  },
  {
   "cell_type": "markdown",
   "id": "a4f6d46e-f822-41e4-9c09-be4f7bf6676d",
   "metadata": {
    "deletable": false,
    "editable": false,
    "nbgrader": {
     "cell_type": "markdown",
     "checksum": "85f99e8c4b0d2d2015f03d717c44ace3",
     "grade": false,
     "grade_id": "cell-06699a7e8a98f914",
     "locked": true,
     "schema_version": 3,
     "solution": false,
     "task": false
    }
   },
   "source": [
    "---\n",
    "### Feladat: Két halmaz metszete.  (2 pont)\n",
    "[Programozási tétel: Metszet]\n",
    "- Készíts függvényt __halmazok_metszete__ néven, \n",
    "- amely két paraméterként átadott halmaz azonos elemeivel mint halmazzal tér vissza."
   ]
  },
  {
   "cell_type": "code",
   "execution_count": null,
   "id": "f598e4ec-f0ab-43f1-971e-3a90bdcda1a9",
   "metadata": {
    "deletable": false,
    "nbgrader": {
     "cell_type": "code",
     "checksum": "4a72d608e6fe2ee85ba44b72ed3235cc",
     "grade": false,
     "grade_id": "cell-d85477bc16033ed9",
     "locked": false,
     "schema_version": 3,
     "solution": true,
     "task": false
    }
   },
   "outputs": [],
   "source": [
    "def halmazok_metszete(halmaz1, halmaz2):\n",
    "    \"\"\" \n",
    "    \"\"\"\n",
    "    # YOUR CODE HERE\n",
    "    raise NotImplementedError()\n",
    "    "
   ]
  },
  {
   "cell_type": "code",
   "execution_count": null,
   "id": "e1a41e72-295b-4181-9e62-c524a9836166",
   "metadata": {
    "deletable": false,
    "editable": false,
    "nbgrader": {
     "cell_type": "code",
     "checksum": "a8447fe01f38f042bf686da799222dea",
     "grade": true,
     "grade_id": "cell-4bee6b5bcd403b6c",
     "locked": true,
     "points": 0,
     "schema_version": 3,
     "solution": false,
     "task": false
    }
   },
   "outputs": [],
   "source": [
    "# Ellenőrizd a függvényt a cella futtatásával! \n",
    "# Az assert csak hiba esetén ad visszajelzést.\n",
    "\n",
    "assert halmazok_metszete({1, 2, 3, 4, 5, 6, 7}, {4, 5, 6, 7, 8, 9}) == {4, 5, 6, 7}"
   ]
  },
  {
   "cell_type": "markdown",
   "id": "d1869783-c06b-4102-b566-e8df6bf09ce4",
   "metadata": {
    "deletable": false,
    "editable": false,
    "nbgrader": {
     "cell_type": "markdown",
     "checksum": "71ecf9192067c4f2c0b7e87671f4e6ad",
     "grade": false,
     "grade_id": "cell-d0d2f60e4a1f3f8d",
     "locked": true,
     "schema_version": 3,
     "solution": false,
     "task": false
    }
   },
   "source": [
    "---\n",
    "### Feladat: Két lista metszete.  (2 pont)\n",
    "[Programozási tétel: Metszet]\n",
    "- Készíts függvényt __listak_metszete__ néven, \n",
    "- amely két paraméterként átadott lista azonos elemeivel mint listával tér vissza."
   ]
  },
  {
   "cell_type": "code",
   "execution_count": null,
   "id": "84857d79-6efc-4903-8e75-f9a256777652",
   "metadata": {
    "deletable": false,
    "nbgrader": {
     "cell_type": "code",
     "checksum": "c9c89b5e43dde215eb8f160c5cc05847",
     "grade": false,
     "grade_id": "cell-769cc0a258329af6",
     "locked": false,
     "schema_version": 3,
     "solution": true,
     "task": false
    }
   },
   "outputs": [],
   "source": [
    "def listak_metszete(lista1, lista2):\n",
    "    # YOUR CODE HERE\n",
    "    raise NotImplementedError()\n",
    "    "
   ]
  },
  {
   "cell_type": "code",
   "execution_count": null,
   "id": "6542a783-e9c4-4932-a185-2c92077bd12d",
   "metadata": {
    "deletable": false,
    "editable": false,
    "nbgrader": {
     "cell_type": "code",
     "checksum": "1f06897a93c44f09a1a139a0d07e94a5",
     "grade": true,
     "grade_id": "cell-092a1d2ce9714f19",
     "locked": true,
     "points": 0,
     "schema_version": 3,
     "solution": false,
     "task": false
    }
   },
   "outputs": [],
   "source": [
    "# Ellenőrizd a függvényt a cella futtatásával! \n",
    "# Az assert csak hiba esetén ad visszajelzést.\n",
    "\n",
    "assert set(listak_metszete([1, 2, 3, 4, 5, 6, 7], [4, 5, 6, 7, 8, 9])) == set([4, 5, 6, 7])"
   ]
  },
  {
   "cell_type": "markdown",
   "id": "3f39ae2c-e304-4060-a76f-a24a3f4a80b1",
   "metadata": {
    "deletable": false,
    "editable": false,
    "nbgrader": {
     "cell_type": "markdown",
     "checksum": "6852cd10ca7344d0df77e58d5e9cc7c9",
     "grade": false,
     "grade_id": "cell-88adbeddd28dbef2",
     "locked": true,
     "schema_version": 3,
     "solution": false,
     "task": false
    }
   },
   "source": [
    "---\n",
    "### Feladat: Két halmaz uniója.  (2 pont)\n",
    "[Programozási tétel: Unió]\n",
    "- Készíts függvényt __halmazok_unioja__ néven, \n",
    "- amely két paraméterként átadott halmaz minden elemeivel mint halmazzal tér vissza."
   ]
  },
  {
   "cell_type": "code",
   "execution_count": null,
   "id": "238c9198-069d-4f64-9e03-949e564fc740",
   "metadata": {
    "deletable": false,
    "nbgrader": {
     "cell_type": "code",
     "checksum": "1269feb4c9b125079b86a0507f30590b",
     "grade": false,
     "grade_id": "cell-b14044b8a32ac060",
     "locked": false,
     "schema_version": 3,
     "solution": true,
     "task": false
    }
   },
   "outputs": [],
   "source": [
    "def halmazok_unioja(halmaz1, halmaz2):\n",
    "    # YOUR CODE HERE\n",
    "    raise NotImplementedError()\n",
    "    "
   ]
  },
  {
   "cell_type": "code",
   "execution_count": null,
   "id": "b7cd89b9-6c1f-4a17-8a70-8fd8fc9ebc04",
   "metadata": {
    "deletable": false,
    "editable": false,
    "nbgrader": {
     "cell_type": "code",
     "checksum": "80b38e4abcd65423439a6456d98fcf37",
     "grade": true,
     "grade_id": "cell-5ee7efec77bbf9f2",
     "locked": true,
     "points": 0,
     "schema_version": 3,
     "solution": false,
     "task": false
    }
   },
   "outputs": [],
   "source": [
    "# Ellenőrizd a függvényt a cella futtatásával! \n",
    "# Az assert csak hiba esetén ad visszajelzést.\n",
    "\n",
    "assert halmazok_unioja({1, 2, 3, 4, 5, 6, 7}, {4, 5, 6, 7, 8, 9}) == {1, 2, 3, 4, 5, 6, 7, 8, 9}"
   ]
  },
  {
   "cell_type": "markdown",
   "id": "88819f9a-6321-4b09-9303-f6872adc629b",
   "metadata": {
    "deletable": false,
    "editable": false,
    "nbgrader": {
     "cell_type": "markdown",
     "checksum": "4c039736382944280c79f511e71d2745",
     "grade": false,
     "grade_id": "cell-eed80a1abc3c838f",
     "locked": true,
     "schema_version": 3,
     "solution": false,
     "task": false
    }
   },
   "source": [
    "---\n",
    "### Feladat: Listaban levő számok átlaga (számtani közepe).  (2 pont)\n",
    "Készíts függvényt __lista_atlag__ néven,  \n",
    "amely visszatér egy számokat tartalmazó lista számainak átlagával."
   ]
  },
  {
   "cell_type": "code",
   "execution_count": null,
   "id": "cb62e748-884d-43fb-b850-169ed5661248",
   "metadata": {
    "deletable": false,
    "nbgrader": {
     "cell_type": "code",
     "checksum": "a5798b570fe20c0feeaf65e0fa845585",
     "grade": false,
     "grade_id": "cell-631da50bc2cacab2",
     "locked": false,
     "schema_version": 3,
     "solution": true,
     "task": false
    }
   },
   "outputs": [],
   "source": [
    "def lista_atlag(lista):\n",
    "    \"\"\" Visszatér egy számokat tartalmazó lista számainak átlagával.\n",
    "    \"\"\"\n",
    "    # YOUR CODE HERE\n",
    "    raise NotImplementedError()\n",
    "    "
   ]
  },
  {
   "cell_type": "code",
   "execution_count": null,
   "id": "d47186b4-f022-4123-89da-f5b37c59db72",
   "metadata": {
    "deletable": false,
    "editable": false,
    "nbgrader": {
     "cell_type": "code",
     "checksum": "30c78cea5341bc02288a39a52d0f4216",
     "grade": true,
     "grade_id": "cell-f7e43b7e8fde8d58",
     "locked": true,
     "points": 0,
     "schema_version": 3,
     "solution": false,
     "task": false
    }
   },
   "outputs": [],
   "source": [
    "# Ellenőrizd a függvényt a cella futtatásával! \n",
    "# Az assert csak hiba esetén ad visszajelzést.\n",
    "\n",
    "assert lista_atlag([1, 2, 3, 4, 5, 6]) == 21/6"
   ]
  },
  {
   "cell_type": "markdown",
   "id": "c1f0f0f1-f903-44c7-bc95-eaed2dd43d1d",
   "metadata": {
    "deletable": false,
    "editable": false,
    "nbgrader": {
     "cell_type": "markdown",
     "checksum": "1c75eea9fd8d2ed098fc2701d9c418fb",
     "grade": false,
     "grade_id": "cell-fdad9907dc83f0a9",
     "locked": true,
     "schema_version": 3,
     "solution": false,
     "task": false
    }
   },
   "source": [
    "---\n",
    "### Feladat: Faktoriális.  (2 pont)\n",
    "Készíts függvényt __faktorialis__ néven,  \n",
    "amely visszatér a paraméterként megkapott szám faktoriálisával."
   ]
  },
  {
   "cell_type": "code",
   "execution_count": null,
   "id": "2fac0f2a-4b34-4cfb-a18f-14af64f54428",
   "metadata": {
    "deletable": false,
    "nbgrader": {
     "cell_type": "code",
     "checksum": "b46cd4dbaa8c4901d0b50f5d065ed6f0",
     "grade": false,
     "grade_id": "cell-d2441539d171edae",
     "locked": false,
     "schema_version": 3,
     "solution": true,
     "task": false
    }
   },
   "outputs": [],
   "source": [
    "def faktorialis(n):\n",
    "    \"\"\" visszatér a paraméterként megkapott szám faktoriálisával.\n",
    "    \"\"\"\n",
    "    # YOUR CODE HERE\n",
    "    raise NotImplementedError()\n",
    "    "
   ]
  },
  {
   "cell_type": "code",
   "execution_count": null,
   "id": "04a683be-f2a5-40b2-8de4-5a7f841d8b6d",
   "metadata": {
    "deletable": false,
    "editable": false,
    "nbgrader": {
     "cell_type": "code",
     "checksum": "d8b24e76f907c9f8278d7da5c1e5e4b6",
     "grade": true,
     "grade_id": "cell-dec0805197e67552",
     "locked": true,
     "points": 0,
     "schema_version": 3,
     "solution": false,
     "task": false
    }
   },
   "outputs": [],
   "source": [
    "# Ellenőrizd a függvényt a cella futtatásával! \n",
    "# Az assert csak hiba esetén ad visszajelzést.\n",
    "\n",
    "assert  faktorialis(0) == 1\n",
    "assert  faktorialis(1) == 1\n",
    "assert  faktorialis(2) == 1 * 2\n",
    "assert  faktorialis(5) == 1 * 2 * 3 * 4 * 5"
   ]
  },
  {
   "cell_type": "code",
   "execution_count": null,
   "id": "e8455202-c951-4984-90a6-7a7fa8f23801",
   "metadata": {},
   "outputs": [],
   "source": []
  }
 ],
 "metadata": {
  "kernelspec": {
   "display_name": "Python 3 (ipykernel)",
   "language": "python",
   "name": "python3"
  },
  "language_info": {
   "codemirror_mode": {
    "name": "ipython",
    "version": 3
   },
   "file_extension": ".py",
   "mimetype": "text/x-python",
   "name": "python",
   "nbconvert_exporter": "python",
   "pygments_lexer": "ipython3",
   "version": "3.10.10"
  }
 },
 "nbformat": 4,
 "nbformat_minor": 5
}
