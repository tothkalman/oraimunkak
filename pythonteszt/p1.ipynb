{
 "cells": [
  {
   "cell_type": "markdown",
   "id": "4f2395ad-b13a-44ae-835f-4fba7639f434",
   "metadata": {
    "deletable": false,
    "editable": false,
    "nbgrader": {
     "cell_type": "markdown",
     "checksum": "de5d7f4b2985421d9a405c99a66eae5a",
     "grade": false,
     "grade_id": "cell-54a74fd91e216d1b",
     "locked": true,
     "schema_version": 3,
     "solution": false,
     "task": false
    }
   },
   "source": [
    "![](wesselenyi.png)"
   ]
  },
  {
   "cell_type": "markdown",
   "id": "a6527671-100d-494d-8488-e4f7fa5d57f1",
   "metadata": {
    "deletable": false,
    "editable": false,
    "nbgrader": {
     "cell_type": "markdown",
     "checksum": "88f99d8d0be825a60dbdc39a5a355bb8",
     "grade": false,
     "grade_id": "cell-310bb9c5252034ae",
     "locked": true,
     "schema_version": 3,
     "solution": false,
     "task": false
    }
   },
   "source": [
    "---\n",
    "### Feladat: Két szám összege. (2 pont)\n",
    "- Írj egy függvényt __osszead__ néven,\n",
    "- amely két számot kap és\n",
    "- visszatér a két szám összegével."
   ]
  },
  {
   "cell_type": "code",
   "execution_count": 7,
   "id": "d357e483-639f-4c55-8042-a0097132fd0e",
   "metadata": {
    "deletable": false,
    "nbgrader": {
     "cell_type": "code",
     "checksum": "54b466824169fe41f74b604a05cb9727",
     "grade": false,
     "grade_id": "cell-d372a9eb762ab2ac",
     "locked": false,
     "schema_version": 3,
     "solution": true,
     "task": false
    }
   },
   "outputs": [],
   "source": [
    "def osszead(szam1, szam2):\n",
    "    \"\"\" A függvény két számot kap és \n",
    "        visszatér a két szám összegével.\n",
    "    \"\"\"\n",
    "    # YOUR CODE HERE\n",
    "    return szam1 + szam2\n",
    "    raise NotImplementedError()"
   ]
  },
  {
   "cell_type": "code",
   "execution_count": 8,
   "id": "5b3aa6bd-3c0e-4e07-953f-d40028466b8f",
   "metadata": {
    "deletable": false,
    "editable": false,
    "nbgrader": {
     "cell_type": "code",
     "checksum": "069e6ecbe51edcfb4cbd28449c1278d8",
     "grade": true,
     "grade_id": "cell-8016294973e5cac3",
     "locked": true,
     "points": 2,
     "schema_version": 3,
     "solution": false,
     "task": false
    }
   },
   "outputs": [],
   "source": [
    "# Ellenőrizd a függvényt a cella futtatásával! \n",
    "# Az assert csak hiba esetén ad visszajelzést.\n",
    "\n",
    "assert osszead(14, -8) == 6"
   ]
  },
  {
   "cell_type": "markdown",
   "id": "922f6599-a6c8-4291-9a57-34f555445b6b",
   "metadata": {
    "deletable": false,
    "editable": false,
    "nbgrader": {
     "cell_type": "markdown",
     "checksum": "f01ad870fb2ad2a92f0b6fda2e7f53e4",
     "grade": false,
     "grade_id": "cell-403cd3e974432fe7",
     "locked": true,
     "schema_version": 3,
     "solution": false,
     "task": false
    }
   },
   "source": [
    "---\n",
    "### Feladat: Melyik a kisebb? (2 pont)\n",
    "- Írj egy függvényt __kisebb__ néven,\n",
    "- amely két számot kap és\n",
    "- visszatér a kisebbel."
   ]
  },
  {
   "cell_type": "code",
   "execution_count": 9,
   "id": "3a1a53cb-033b-43b7-b8a2-695a0ec74349",
   "metadata": {
    "deletable": false,
    "nbgrader": {
     "cell_type": "code",
     "checksum": "7796e6f35e2e0fe773b4229a7ac71ed0",
     "grade": false,
     "grade_id": "kisebb",
     "locked": false,
     "schema_version": 3,
     "solution": true,
     "task": false
    }
   },
   "outputs": [],
   "source": [
    "def kisebb(szam1, szam2):\n",
    "    \"\"\" A függvény két számot kap és \n",
    "        visszatér a kisebbel.\n",
    "    \"\"\"\n",
    "    # YOUR CODE HERE\n",
    "    if szam1 < szam2:\n",
    "        return szam1\n",
    "    else:\n",
    "        return szam2\n",
    "    raise NotImplementedError()"
   ]
  },
  {
   "cell_type": "code",
   "execution_count": 10,
   "id": "d466e3b9-833b-4809-8159-48d91a0e8496",
   "metadata": {
    "deletable": false,
    "editable": false,
    "nbgrader": {
     "cell_type": "code",
     "checksum": "1e9a32b4cb23b039a6c6b1fa2b6e5473",
     "grade": true,
     "grade_id": "assert_kisebb",
     "locked": true,
     "points": 2,
     "schema_version": 3,
     "solution": false,
     "task": false
    }
   },
   "outputs": [],
   "source": [
    "# Ellenőrizd a függvényt a cella futtatásával! \n",
    "# Az assert csak hiba esetén ad visszajelzést.\n",
    "\n",
    "assert kisebb(10, -7) == -7\n",
    "assert kisebb(-10, 7) == -10"
   ]
  },
  {
   "cell_type": "markdown",
   "id": "e7eec8f8-3a8d-4cc6-af2a-e100f2af8598",
   "metadata": {
    "deletable": false,
    "editable": false,
    "nbgrader": {
     "cell_type": "markdown",
     "checksum": "56abf31e387e1cb38c449b72ffaa732d",
     "grade": false,
     "grade_id": "cell-9acde6e9a357d1fb",
     "locked": true,
     "schema_version": 3,
     "solution": false,
     "task": false
    }
   },
   "source": [
    "---\n",
    "### Feladat: Melyik a nagyobb? (2 pont)\n",
    "- Írj egy függvényt __nagyobb__ néven,\n",
    "- amely két számot kap és\n",
    "- visszatér a nagyobbal."
   ]
  },
  {
   "cell_type": "code",
   "execution_count": 11,
   "id": "035022ae-c17a-4f30-89e0-cd84a3c222c5",
   "metadata": {
    "deletable": false,
    "nbgrader": {
     "cell_type": "code",
     "checksum": "529a92b6c387930797fce106e3583a58",
     "grade": false,
     "grade_id": "nagyobb",
     "locked": false,
     "schema_version": 3,
     "solution": true,
     "task": false
    }
   },
   "outputs": [],
   "source": [
    "def nagyobb(szam1, szam2):\n",
    "    \"\"\" A függvény két számot kap és \n",
    "        visszatér a nagyobbal.\n",
    "    \"\"\"\n",
    "    # YOUR CODE HERE\n",
    "    if szam1 > szam2:\n",
    "        return szam1\n",
    "    else:\n",
    "        return szam2\n",
    "    raise NotImplementedError()"
   ]
  },
  {
   "cell_type": "code",
   "execution_count": 12,
   "id": "9cba0421-91b0-464d-bf9a-43d2b22e87c5",
   "metadata": {
    "deletable": false,
    "editable": false,
    "nbgrader": {
     "cell_type": "code",
     "checksum": "f988a9451983a939108ff76654ce74b8",
     "grade": true,
     "grade_id": "assert_nagyobb",
     "locked": true,
     "points": 2,
     "schema_version": 3,
     "solution": false,
     "task": false
    }
   },
   "outputs": [],
   "source": [
    "# Ellenőrizd a függvényt a cella futtatásával! \n",
    "# Az assert csak hiba esetén ad visszajelzést.\n",
    "\n",
    "assert nagyobb(12, -8) == 12\n",
    "assert nagyobb(-12, -8) == -8 "
   ]
  },
  {
   "cell_type": "markdown",
   "id": "cda1bb07-eb99-4782-8ab0-760198cef0f8",
   "metadata": {
    "deletable": false,
    "editable": false,
    "nbgrader": {
     "cell_type": "markdown",
     "checksum": "ccba2efe0f21c7560641f97212d62ccd",
     "grade": false,
     "grade_id": "cell-9e44dd7a46346044",
     "locked": true,
     "schema_version": 3,
     "solution": false,
     "task": false
    }
   },
   "source": [
    "---\n",
    "### Feladat: Számtani közép (2 pont)\n",
    "- Írj __szamtani_kozep__ néven függvényt,\n",
    "- amely két számot kap bemenetként és\n",
    "- visszatér a számtani középpel."
   ]
  },
  {
   "cell_type": "code",
   "execution_count": 13,
   "id": "a8ad2dc6-6241-4613-8c3c-29250ab2fba4",
   "metadata": {
    "deletable": false,
    "nbgrader": {
     "cell_type": "code",
     "checksum": "18062a0b47b08a74466fe94db2fdf67f",
     "grade": false,
     "grade_id": "szamtani_kozep",
     "locked": false,
     "schema_version": 3,
     "solution": true,
     "task": false
    }
   },
   "outputs": [],
   "source": [
    "def szamtani_kozep(szam1, szam2):\n",
    "    \"\"\" A függvény két számot kap és \n",
    "        visszatér a számtani középpel.\n",
    "    \"\"\"\n",
    "    # YOUR CODE HERE\n",
    "    return (szam1+szam2) / 2\n",
    "    raise NotImplementedError()"
   ]
  },
  {
   "cell_type": "code",
   "execution_count": 14,
   "id": "5f24c168-524e-4080-922b-e81c9d7aab3a",
   "metadata": {
    "deletable": false,
    "editable": false,
    "nbgrader": {
     "cell_type": "code",
     "checksum": "044c38d065080dbfb89fc776d5741ae3",
     "grade": true,
     "grade_id": "assert_szamtani_kozep",
     "locked": true,
     "points": 0,
     "schema_version": 3,
     "solution": false,
     "task": false
    }
   },
   "outputs": [],
   "source": [
    "# Ellenőrizd a függvényt a cella futtatásával! \n",
    "# Az assert csak hiba esetén ad visszajelzést.\n",
    "\n",
    "assert szamtani_kozep(3, 5) == 4.0"
   ]
  },
  {
   "cell_type": "markdown",
   "id": "33b20f75-e18f-41a0-a0ca-1e0b84174e61",
   "metadata": {
    "deletable": false,
    "editable": false,
    "nbgrader": {
     "cell_type": "markdown",
     "checksum": "5f1c18b275719fb3fbb2d7a22011432a",
     "grade": false,
     "grade_id": "cell-91b796155042db7d",
     "locked": true,
     "schema_version": 3,
     "solution": false,
     "task": false
    }
   },
   "source": [
    "---\n",
    "### Feladat: Négyzet kerülete (2 pont)\n",
    "- Írj __negyzet_kerulet__ néven függvényt,\n",
    "- amely egy négyzet oldalhosszát kapja bemenetként és\n",
    "- visszatér a négyzet kerületével."
   ]
  },
  {
   "cell_type": "code",
   "execution_count": 15,
   "id": "5354129d-2201-47c7-a38c-5808ba65b45b",
   "metadata": {
    "deletable": false,
    "nbgrader": {
     "cell_type": "code",
     "checksum": "cef3086ad0ea14626ef188f5f6946a81",
     "grade": false,
     "grade_id": "negyzet_kerulet",
     "locked": false,
     "schema_version": 3,
     "solution": true,
     "task": false
    }
   },
   "outputs": [],
   "source": [
    "def negyzet_kerulet(oldal):\n",
    "    \"\"\" A függvény egy négyzet oldalhosszát kapja bemenetként és \n",
    "        visszatér a négyzet kerületével.\n",
    "    \"\"\"\n",
    "    # YOUR CODE HERE\n",
    "    return oldal * 4\n",
    "    raise NotImplementedError()"
   ]
  },
  {
   "cell_type": "code",
   "execution_count": 16,
   "id": "32bc9fea-503a-4bd1-a71f-8a0f0ae42d7b",
   "metadata": {
    "deletable": false,
    "editable": false,
    "nbgrader": {
     "cell_type": "code",
     "checksum": "832b25d57310200fc819580ac32fbd69",
     "grade": true,
     "grade_id": "assert_negyzet_kerulet",
     "locked": true,
     "points": 2,
     "schema_version": 3,
     "solution": false,
     "task": false
    }
   },
   "outputs": [],
   "source": [
    "# Ellenőrizd a függvényt a cella futtatásával! \n",
    "# Az assert csak hiba esetén ad visszajelzést.\n",
    "\n",
    "assert negyzet_kerulet(5.1) == 20.4"
   ]
  },
  {
   "cell_type": "markdown",
   "id": "062faf46-f5c2-4c05-abab-b9c07d44ebd6",
   "metadata": {
    "deletable": false,
    "editable": false,
    "nbgrader": {
     "cell_type": "markdown",
     "checksum": "60234d355f7f8422ba062623df20034d",
     "grade": false,
     "grade_id": "cell-5af2f08208348afb",
     "locked": true,
     "schema_version": 3,
     "solution": false,
     "task": false
    }
   },
   "source": [
    "---\n",
    "### Feladat: Négyzet területe (2 pont)\n",
    "- Írj __negyzet_terulet__ néven függvényt,\n",
    "- amely egy négyzet oldalhosszát kapja bemenetként és\n",
    "- visszatér a négyzet területével."
   ]
  },
  {
   "cell_type": "code",
   "execution_count": 17,
   "id": "975a7864-59f8-4394-8ab2-94a910892e0e",
   "metadata": {
    "deletable": false,
    "nbgrader": {
     "cell_type": "code",
     "checksum": "21912a73ec117fb17687d8bb0dc8df6d",
     "grade": false,
     "grade_id": "negyzet_terulet",
     "locked": false,
     "schema_version": 3,
     "solution": true,
     "task": false
    }
   },
   "outputs": [],
   "source": [
    "def negyzet_terulet(oldal):\n",
    "    \"\"\" A függvény egy négyzet oldalhosszát kapja bemenetként és \n",
    "        visszatér a négyzet területével.\n",
    "    \"\"\"    \n",
    "    # YOUR CODE HERE\n",
    "    return oldal * oldal\n",
    "    raise NotImplementedError()"
   ]
  },
  {
   "cell_type": "code",
   "execution_count": 18,
   "id": "bd82cd42-e49a-49b2-a2df-95d4abde3094",
   "metadata": {
    "deletable": false,
    "editable": false,
    "nbgrader": {
     "cell_type": "code",
     "checksum": "00d4441eb20a96161747b53979728339",
     "grade": true,
     "grade_id": "assert_negyzet_terulet",
     "locked": true,
     "points": 2,
     "schema_version": 3,
     "solution": false,
     "task": false
    }
   },
   "outputs": [],
   "source": [
    "# Ellenőrizd a függvényt a cella futtatásával! \n",
    "# Az assert csak hiba esetén ad visszajelzést.\n",
    "\n",
    "assert negyzet_terulet(5.0) == 25.0"
   ]
  },
  {
   "cell_type": "markdown",
   "id": "9c63698f-0903-493a-b5fd-ba20ae790802",
   "metadata": {
    "deletable": false,
    "editable": false,
    "nbgrader": {
     "cell_type": "markdown",
     "checksum": "b147791548a3341b4795efe911e860a2",
     "grade": false,
     "grade_id": "cell-a792c088b1615a65",
     "locked": true,
     "schema_version": 3,
     "solution": false,
     "task": false
    }
   },
   "source": [
    "---\n",
    "### Feladat: Téglalap kerülete (2 pont)\n",
    "- Írj __teglalap_kerulet__ néven függvényt, \n",
    "- amely egy téglalap oldalhosszait kapja bemenetként és \n",
    "- visszatér a téglalap kerületével."
   ]
  },
  {
   "cell_type": "code",
   "execution_count": 19,
   "id": "f3c1aff5-1ddf-4626-a54d-37a664d6956c",
   "metadata": {
    "deletable": false,
    "nbgrader": {
     "cell_type": "code",
     "checksum": "09ae42d7204e63fbbfeabae98d34ad16",
     "grade": false,
     "grade_id": "teglalap_kerulet",
     "locked": false,
     "schema_version": 3,
     "solution": true,
     "task": false
    }
   },
   "outputs": [],
   "source": [
    "def teglalap_kerulet(oldal1, oldal2):\n",
    "    \"\"\" A függvény egy téglalap oldalhosszait kapja bemenetként és \n",
    "        visszatér a téglalap kerületével.\n",
    "    \"\"\"\n",
    "    # YOUR CODE HERE\n",
    "    return 2 * (oldal1+oldal2)\n",
    "    raise NotImplementedError()"
   ]
  },
  {
   "cell_type": "code",
   "execution_count": 20,
   "id": "2ddfdfa6-976e-49c4-8779-b9e54064ed18",
   "metadata": {
    "deletable": false,
    "editable": false,
    "nbgrader": {
     "cell_type": "code",
     "checksum": "6af237a074f17911adcea821b4356bf6",
     "grade": true,
     "grade_id": "cell-0f3d2e18e991d1ef",
     "locked": true,
     "points": 2,
     "schema_version": 3,
     "solution": false,
     "task": false
    }
   },
   "outputs": [],
   "source": [
    "# Ellenőrizd a függvényt a cella futtatásával! \n",
    "# Az assert csak hiba esetén ad visszajelzést.\n",
    "\n",
    "assert teglalap_kerulet(5, 6) == 22"
   ]
  },
  {
   "cell_type": "markdown",
   "id": "fee22620-df9e-4378-9b5c-39c3b90548c6",
   "metadata": {
    "deletable": false,
    "editable": false,
    "nbgrader": {
     "cell_type": "markdown",
     "checksum": "c5bc73a5f29d3eb84543a93bcbc749a3",
     "grade": false,
     "grade_id": "cell-e8e5dd6dc47142d1",
     "locked": true,
     "schema_version": 3,
     "solution": false,
     "task": false
    }
   },
   "source": [
    "---\n",
    "### Feladat: Téglalap területe (2 pont)\n",
    "- Írj __teglalap_terulet__ néven függvényt,\n",
    "- amely egy téglalap oldalhosszait kapja bemenetként és\n",
    "- visszatér a téglalap területével."
   ]
  },
  {
   "cell_type": "code",
   "execution_count": 21,
   "id": "3efc9976-b6b8-444b-a508-b50a01b22ab5",
   "metadata": {
    "deletable": false,
    "nbgrader": {
     "cell_type": "code",
     "checksum": "6c1672f91411680e19956251cae6360d",
     "grade": false,
     "grade_id": "teglalap_terulet",
     "locked": false,
     "schema_version": 3,
     "solution": true,
     "task": false
    }
   },
   "outputs": [],
   "source": [
    "def teglalap_terulet(oldal1, oldal2):\n",
    "    \"\"\" A függvény egy téglalap oldalhosszait kapja bemenetként és \n",
    "        visszatér a téglalap területével.\n",
    "    \"\"\"\n",
    "    # YOUR CODE HERE\n",
    "    return oldal1 * oldal2\n",
    "    raise NotImplementedError()"
   ]
  },
  {
   "cell_type": "code",
   "execution_count": 22,
   "id": "4e167cdb-1de8-4c0e-ae79-4764573a9270",
   "metadata": {
    "deletable": false,
    "editable": false,
    "nbgrader": {
     "cell_type": "code",
     "checksum": "6b164ce4be0f34b0615933da8a857682",
     "grade": true,
     "grade_id": "cell-15b7817404fa657a",
     "locked": true,
     "points": 2,
     "schema_version": 3,
     "solution": false,
     "task": false
    }
   },
   "outputs": [],
   "source": [
    "# Ellenőrizd a függvényt a cella futtatásával! \n",
    "# Az assert csak hiba esetén ad visszajelzést.\n",
    "\n",
    "assert teglalap_terulet(5, 6) == 30"
   ]
  },
  {
   "cell_type": "markdown",
   "id": "9ebca416-ac37-44fb-b4ed-d8e894d63323",
   "metadata": {
    "deletable": false,
    "editable": false,
    "nbgrader": {
     "cell_type": "markdown",
     "checksum": "be39334fdaf0bdbf6601529e10eab351",
     "grade": false,
     "grade_id": "cell-55cf2754446f413c",
     "locked": true,
     "schema_version": 3,
     "solution": false,
     "task": false
    }
   },
   "source": [
    "---\n",
    "### Feladat: Két szám különbsége (2 pont)\n",
    "- Írj __kulonbseg__ néven függvényt,\n",
    "- amely két számot kap bemenetként és\n",
    "- visszatér a két szám különbségével."
   ]
  },
  {
   "cell_type": "code",
   "execution_count": 23,
   "id": "5ef74bf9-9ecb-469d-b469-acc30a84f965",
   "metadata": {
    "deletable": false,
    "nbgrader": {
     "cell_type": "code",
     "checksum": "93c789f2322bc5fd56d8f92c13c55c92",
     "grade": false,
     "grade_id": "kulonbseg",
     "locked": false,
     "schema_version": 3,
     "solution": true,
     "task": false
    }
   },
   "outputs": [],
   "source": [
    "def kulonbseg(szam1, szam2):\n",
    "    \"\"\" A függvény két számot kap bemenetként és \n",
    "        visszatér a két szám különbségével.\n",
    "    \"\"\"    \n",
    "    # YOUR CODE HERE\n",
    "    return szam1 - szam2\n",
    "    raise NotImplementedError()"
   ]
  },
  {
   "cell_type": "code",
   "execution_count": 24,
   "id": "c6b7152b-a8b5-4186-959f-6944dcbc4dd6",
   "metadata": {
    "deletable": false,
    "editable": false,
    "nbgrader": {
     "cell_type": "code",
     "checksum": "2fdda8c1182cceaab8f4e8ae7386450a",
     "grade": true,
     "grade_id": "cell-533cde20aa1c9407",
     "locked": true,
     "points": 2,
     "schema_version": 3,
     "solution": false,
     "task": false
    }
   },
   "outputs": [],
   "source": [
    "# Ellenőrizd a függvényt a cella futtatásával! \n",
    "# Az assert csak hiba esetén ad visszajelzést.\n",
    "\n",
    "assert kulonbseg(5, 6) == -1"
   ]
  },
  {
   "cell_type": "markdown",
   "id": "3a882f8e-7b07-4fe1-b621-9a7cb8b2ece9",
   "metadata": {
    "deletable": false,
    "editable": false,
    "nbgrader": {
     "cell_type": "markdown",
     "checksum": "7aaaff8f204d39af0618d774aa54b347",
     "grade": false,
     "grade_id": "cell-c2303a8af34434e6",
     "locked": true,
     "schema_version": 3,
     "solution": false,
     "task": false
    }
   },
   "source": [
    "---\n",
    "### Feladat: Maradékos osztás (2 pont)\n",
    "- Írj egy __maradek__ nevü függvényt,\n",
    "- amely két számot kap bemenetként és\n",
    "- visszatér a két szám osztásának maradékával."
   ]
  },
  {
   "cell_type": "code",
   "execution_count": 25,
   "id": "74a3553b-3253-4cb7-92ca-9705a821c10b",
   "metadata": {
    "deletable": false,
    "nbgrader": {
     "cell_type": "code",
     "checksum": "fa2a7d68ddf6cd1a2b85c27a6825a9e4",
     "grade": false,
     "grade_id": "maradek",
     "locked": false,
     "schema_version": 3,
     "solution": true,
     "task": false
    }
   },
   "outputs": [],
   "source": [
    "def maradek(szam1, szam2):\n",
    "    \"\"\" A függvény két számot kap bemenetként és \n",
    "        visszatér a két szám osztásának maradékával.\n",
    "    \"\"\"    \n",
    "    # YOUR CODE HERE\n",
    "    return szam1 % szam2\n",
    "    raise NotImplementedError()"
   ]
  },
  {
   "cell_type": "code",
   "execution_count": 43,
   "id": "4864dea3-a419-4443-ab63-7d70cd02c1ec",
   "metadata": {
    "deletable": false,
    "editable": false,
    "nbgrader": {
     "cell_type": "code",
     "checksum": "75bf0bda7cab4880658702ccd2c63d73",
     "grade": true,
     "grade_id": "cell-240f0b72f19526ed",
     "locked": true,
     "points": 2,
     "schema_version": 3,
     "solution": false,
     "task": false
    }
   },
   "outputs": [],
   "source": [
    "# Ellenőrizd a függvényt a cella futtatásával! \n",
    "# Az assert csak hiba esetén ad visszajelzést.\n",
    "\n",
    "assert maradek(9, 4) == 1\n",
    "assert maradek(8, 4) == 0"
   ]
  },
  {
   "cell_type": "markdown",
   "id": "e589178a-eb52-40c6-888e-7e69365597f3",
   "metadata": {
    "deletable": false,
    "editable": false,
    "nbgrader": {
     "cell_type": "markdown",
     "checksum": "0da8e713596d4f2ea45af141037d3bc4",
     "grade": false,
     "grade_id": "cell-011354035572cc04",
     "locked": true,
     "schema_version": 3,
     "solution": false,
     "task": false
    }
   },
   "source": [
    "---\n",
    "### Feladat: Páros szám (2 pont)\n",
    "- Írj egy __paros__ nevü függvényt,\n",
    "- amely egy számot kap bemenetként, majd\n",
    "- True-val tér vissza, ha a szám páros és\n",
    "- False-al tér vissza, ha a szám páratlan."
   ]
  },
  {
   "cell_type": "code",
   "execution_count": 29,
   "id": "d107220d-4752-458e-8521-1441165fcb65",
   "metadata": {
    "deletable": false,
    "nbgrader": {
     "cell_type": "code",
     "checksum": "5d0d6dceaaeb12e0bf808ab4ef098ef7",
     "grade": false,
     "grade_id": "paros",
     "locked": false,
     "schema_version": 3,
     "solution": true,
     "task": false
    }
   },
   "outputs": [],
   "source": [
    "def paros(szam):\n",
    "    \"\"\" A függvény egy számot kap bemenetként, \n",
    "        majd True-val tér vissza, ha a szám páros és \n",
    "        False-al ha a szám páratlan.\n",
    "    \"\"\"    \n",
    "    # YOUR CODE HERE\n",
    "    if szam % 2 == 0:\n",
    "        return True\n",
    "    else:\n",
    "        return False\n",
    "    raise NotImplementedError()\n"
   ]
  },
  {
   "cell_type": "code",
   "execution_count": 30,
   "id": "34a496d0-0275-45a0-89dd-a8f678d388f6",
   "metadata": {
    "deletable": false,
    "editable": false,
    "nbgrader": {
     "cell_type": "code",
     "checksum": "4880940a4819b517cac328102d334df2",
     "grade": true,
     "grade_id": "cell-b5bc8d625fd98593",
     "locked": true,
     "points": 2,
     "schema_version": 3,
     "solution": false,
     "task": false
    }
   },
   "outputs": [],
   "source": [
    "# Ellenőrizd a függvényt a cella futtatásával! \n",
    "# Az assert csak hiba esetén ad visszajelzést.\n",
    "\n",
    "assert paros(9) == False\n",
    "assert paros(8) == True"
   ]
  },
  {
   "cell_type": "markdown",
   "id": "284e613f-6ee2-4bee-9480-129492a47e5c",
   "metadata": {
    "deletable": false,
    "editable": false,
    "nbgrader": {
     "cell_type": "markdown",
     "checksum": "3015becd02dc42a56517aca06e8a00e4",
     "grade": false,
     "grade_id": "cell-874316ac91a3ff7b",
     "locked": true,
     "schema_version": 3,
     "solution": false,
     "task": false
    }
   },
   "source": [
    "---\n",
    "### Feladat: Kettővel osztható (2 pont)\n",
    "- Írj egy __kettovel_oszthato__ nevü függvényt,\n",
    "- amely egy számot kap bemenetként és\n",
    "- True-val tér vissza, ha a szám kettővel osztható és\n",
    "- False-al tér vissza ha nem."
   ]
  },
  {
   "cell_type": "code",
   "execution_count": 31,
   "id": "624a31c6-5dfd-4e67-a2a2-4cd3a1aded9e",
   "metadata": {
    "deletable": false,
    "nbgrader": {
     "cell_type": "code",
     "checksum": "caf918fa7a4e9369ab50689755386c27",
     "grade": false,
     "grade_id": "kettovel_oszthato",
     "locked": false,
     "schema_version": 3,
     "solution": true,
     "task": false
    }
   },
   "outputs": [],
   "source": [
    "def kettovel_oszthato(szam):\n",
    "    \"\"\" A függvény egy számot kap bemenetként és \n",
    "        True-val tér vissza, ha a szám kettővel osztható és \n",
    "        False-al ha nem.\n",
    "    \"\"\"    \n",
    "    # YOUR CODE HERE\n",
    "    if szam % 2 == 0:\n",
    "        return True\n",
    "    else:\n",
    "        return False\n",
    "    raise NotImplementedError()"
   ]
  },
  {
   "cell_type": "code",
   "execution_count": 32,
   "id": "0925d337-caa4-498a-a64c-eaf54aa6fd73",
   "metadata": {
    "deletable": false,
    "editable": false,
    "nbgrader": {
     "cell_type": "code",
     "checksum": "01d74fed257308d667077fa194d7bd44",
     "grade": true,
     "grade_id": "cell-26341cbb29acf159",
     "locked": true,
     "points": 2,
     "schema_version": 3,
     "solution": false,
     "task": false
    }
   },
   "outputs": [],
   "source": [
    "# Ellenőrizd a függvényt a cella futtatásával! \n",
    "# Az assert csak hiba esetén ad visszajelzést.\n",
    "\n",
    "assert kettovel_oszthato(12) == True\n",
    "assert kettovel_oszthato(13) == False"
   ]
  },
  {
   "cell_type": "markdown",
   "id": "9bb80176-bc7d-4cd5-80d6-38e965531c41",
   "metadata": {
    "deletable": false,
    "editable": false,
    "nbgrader": {
     "cell_type": "markdown",
     "checksum": "804f6924a17770c44ba4070278a87c27",
     "grade": false,
     "grade_id": "cell-15ad182716ab2ae4",
     "locked": true,
     "schema_version": 3,
     "solution": false,
     "task": false
    }
   },
   "source": [
    "---\n",
    "### Feladat: Hárommal osztható (2 pont)\n",
    "- Írj egy __harommal_oszthato__ nevü függvényt,\n",
    "- amely egy számot kap bemenetként és\n",
    "- True-val tér vissza, ha a szám hárommal osztható és\n",
    "- False-al  tér vissza ha nem."
   ]
  },
  {
   "cell_type": "code",
   "execution_count": 33,
   "id": "5c7372fc-06a1-4e07-bb6c-5d8bb42c2c93",
   "metadata": {
    "deletable": false,
    "nbgrader": {
     "cell_type": "code",
     "checksum": "5dc64c5bd36d274b75586e039d943471",
     "grade": false,
     "grade_id": "harommal_oszthato",
     "locked": false,
     "schema_version": 3,
     "solution": true,
     "task": false
    }
   },
   "outputs": [],
   "source": [
    "def harommal_oszthato(szam):\n",
    "    \"\"\" A függvény egy számot kap bemenetként és \n",
    "        True-val tér vissza, ha a szám hárommal osztható és \n",
    "        False-al ha nem.\n",
    "    \"\"\"    \n",
    "    # YOUR CODE HERE\n",
    "    if szam % 3 == 0:\n",
    "        return True\n",
    "    else:\n",
    "        return False\n",
    "    raise NotImplementedError()"
   ]
  },
  {
   "cell_type": "code",
   "execution_count": 34,
   "id": "50163ecd-1b63-4bc9-8c7c-e04f18c7bb75",
   "metadata": {
    "deletable": false,
    "editable": false,
    "nbgrader": {
     "cell_type": "code",
     "checksum": "52faa1d3bf283871a48609f02f8d7d2b",
     "grade": true,
     "grade_id": "cell-fbf97368e7114dec",
     "locked": true,
     "points": 2,
     "schema_version": 3,
     "solution": false,
     "task": false
    }
   },
   "outputs": [],
   "source": [
    "# Ellenőrizd a függvényt a cella futtatásával! \n",
    "# Az assert csak hiba esetén ad visszajelzést.\n",
    "\n",
    "assert harommal_oszthato(15) == True\n",
    "assert harommal_oszthato(16) == False"
   ]
  },
  {
   "cell_type": "markdown",
   "id": "f8df28c7-a2c5-4479-b59c-0e785a31d65e",
   "metadata": {
    "deletable": false,
    "editable": false,
    "nbgrader": {
     "cell_type": "markdown",
     "checksum": "b81527bce5e56cb9f023e62ca0752a37",
     "grade": false,
     "grade_id": "cell-3a873c2313c41e45",
     "locked": true,
     "schema_version": 3,
     "solution": false,
     "task": false
    }
   },
   "source": [
    "---\n",
    "### Feladat: Héttel osztható (2 pont)\n",
    "- Írj egy __hettel_oszthato__ nevü függvényt ,\n",
    "- amely egy számot kap bemenetként és\n",
    "- True-val tér vissza, ha a szám héttel osztható és\n",
    "- False-al tér vissza ha nem."
   ]
  },
  {
   "cell_type": "code",
   "execution_count": 35,
   "id": "da0a19bd-6e27-41ce-8511-29a953d15bd3",
   "metadata": {
    "deletable": false,
    "nbgrader": {
     "cell_type": "code",
     "checksum": "04e79f0f4a8ab67fa66fcda0bf91ab9d",
     "grade": false,
     "grade_id": "hettel_oszthato",
     "locked": false,
     "schema_version": 3,
     "solution": true,
     "task": false
    }
   },
   "outputs": [],
   "source": [
    "def hettel_oszthato(szam):\n",
    "    \"\"\" A függvény egy számot kap bemenetként és \n",
    "        True-val tér vissza, ha a szám héttel osztható és \n",
    "        False-al ha nem.\n",
    "    \"\"\"    \n",
    "    # YOUR CODE HERE\n",
    "    if szam % 7 == 0:\n",
    "        return True\n",
    "    else:\n",
    "        return False\n",
    "    raise NotImplementedError()"
   ]
  },
  {
   "cell_type": "code",
   "execution_count": 36,
   "id": "824d71bd-07c8-4035-a3be-480704da0e6c",
   "metadata": {
    "deletable": false,
    "editable": false,
    "nbgrader": {
     "cell_type": "code",
     "checksum": "dd63222fbab575fcea9cd75817b2b80d",
     "grade": true,
     "grade_id": "cell-d3b3f12396c5c5e4",
     "locked": true,
     "points": 2,
     "schema_version": 3,
     "solution": false,
     "task": false
    }
   },
   "outputs": [],
   "source": [
    "# Ellenőrizd a függvényt a cella futtatásával! \n",
    "# Az assert csak hiba esetén ad visszajelzést.\n",
    "\n",
    "assert hettel_oszthato(21) == True\n",
    "assert hettel_oszthato(22) == False"
   ]
  },
  {
   "cell_type": "markdown",
   "id": "af5d6074-f8dd-46b2-962b-88bd5b5c636a",
   "metadata": {
    "deletable": false,
    "editable": false,
    "nbgrader": {
     "cell_type": "markdown",
     "checksum": "07ff199cb81f0967ca3313949044eaed",
     "grade": false,
     "grade_id": "cell-79c34bb328e28cdc",
     "locked": true,
     "schema_version": 3,
     "solution": false,
     "task": false
    }
   },
   "source": [
    "---\n",
    "### Feladat: Kocka térfogat (2 pont)\n",
    "- Írj egy __kocka_terfogat__ nevü függvényt,\n",
    "- amely bemenetként megkapja a kocka oldal hosszúságát és\n",
    "- a kocka térfogatával tér vissza."
   ]
  },
  {
   "cell_type": "code",
   "execution_count": 39,
   "id": "2f462918-2fc9-425f-9c2e-4786b7c67c1f",
   "metadata": {
    "deletable": false,
    "nbgrader": {
     "cell_type": "code",
     "checksum": "0b61cfc86f8d19ceb3ace31b4dd0673b",
     "grade": false,
     "grade_id": "kocka_terfogat",
     "locked": false,
     "schema_version": 3,
     "solution": true,
     "task": false
    }
   },
   "outputs": [],
   "source": [
    "def kocka_terfogat(oldal):\n",
    "    \"\"\" A függvény bemenetként megkapja a kocka oldal hosszúságát és \n",
    "        a kocka térfogatával tér vissza.\n",
    "    \"\"\"    \n",
    "    # YOUR CODE HERE\n",
    "    return oldal * oldal * oldal\n",
    "    raise NotImplementedError()"
   ]
  },
  {
   "cell_type": "code",
   "execution_count": 40,
   "id": "960505e2-e96a-4273-a572-20bd4969c85a",
   "metadata": {
    "deletable": false,
    "editable": false,
    "nbgrader": {
     "cell_type": "code",
     "checksum": "29d8a8fc9bfcdfc7a052e9510c82dc24",
     "grade": true,
     "grade_id": "cell-16b0229aa5d6ad38",
     "locked": true,
     "points": 2,
     "schema_version": 3,
     "solution": false,
     "task": false
    }
   },
   "outputs": [],
   "source": [
    "# Ellenőrizd a függvényt a cella futtatásával! \n",
    "# Az assert csak hiba esetén ad visszajelzést.\n",
    "\n",
    "assert kocka_terfogat(2) == 8\n",
    "assert kocka_terfogat(3) == 27"
   ]
  },
  {
   "cell_type": "markdown",
   "id": "df6f933c-41d7-41f0-89db-89e22df73b4d",
   "metadata": {
    "deletable": false,
    "editable": false,
    "nbgrader": {
     "cell_type": "markdown",
     "checksum": "28a81fdae333ad51bf4237b6724a0477",
     "grade": false,
     "grade_id": "cell-dcd57d2ea89c843c",
     "locked": true,
     "schema_version": 3,
     "solution": false,
     "task": false
    }
   },
   "source": [
    "---\n",
    "### Feladat: Téglatest térfogat (2 pont)\n",
    "- Írj egy __teglatest_terfogat__ nevü függvényt,\n",
    "- amely bemenetként megkapja a téglatest oldalainak hosszúságát és\n",
    "- a téglatest térfogatával tér vissza."
   ]
  },
  {
   "cell_type": "code",
   "execution_count": 41,
   "id": "7ed4e195-7522-42f6-a71d-206b9375858f",
   "metadata": {
    "deletable": false,
    "nbgrader": {
     "cell_type": "code",
     "checksum": "d6af1df2398753d38b8547d77529caff",
     "grade": false,
     "grade_id": "teglatest_terfogat",
     "locked": false,
     "schema_version": 3,
     "solution": true,
     "task": false
    }
   },
   "outputs": [],
   "source": [
    "def teglatest_terfogat(a, b, c):\n",
    "    \"\"\" A függvény bemenetként megkapja a téglatest oldalainak hosszúságát és \n",
    "        a téglatest térfogatával tér vissza.\n",
    "    \"\"\"    \n",
    "    # YOUR CODE HERE\n",
    "    return a * b * c\n",
    "    raise NotImplementedError()"
   ]
  },
  {
   "cell_type": "code",
   "execution_count": 42,
   "id": "c1c20157-6342-4de5-a5b0-55b2b1852808",
   "metadata": {
    "deletable": false,
    "editable": false,
    "nbgrader": {
     "cell_type": "code",
     "checksum": "b38e24c0ea111cdc108dfd28199139d2",
     "grade": true,
     "grade_id": "cell-1b90bef6e9337f6d",
     "locked": true,
     "points": 2,
     "schema_version": 3,
     "solution": false,
     "task": false
    }
   },
   "outputs": [],
   "source": [
    "# Ellenőrizd a függvényt a cella futtatásával! \n",
    "# Az assert csak hiba esetén ad visszajelzést.\n",
    "\n",
    "assert teglatest_terfogat(2, 3, 4) == 24"
   ]
  },
  {
   "cell_type": "markdown",
   "id": "9f0386b2-171d-435d-a1b7-5c65ebd1fee5",
   "metadata": {
    "deletable": false,
    "editable": false,
    "nbgrader": {
     "cell_type": "markdown",
     "checksum": "a5fd3dbdb696ce183ea0104130817422",
     "grade": false,
     "grade_id": "cell-190a7f408714abd7",
     "locked": true,
     "schema_version": 3,
     "solution": false,
     "task": false
    }
   },
   "source": [
    "---\n",
    "### Feladat: Derékszögü háromszög területe (2 pont)\n",
    "- Írj egy __derekszogu_haromszog_terulet__ nevü függvényt,\n",
    "- amely bemenetként megkapja a befogók hosszát és a\n",
    "- háromszög területével tér vissza."
   ]
  },
  {
   "cell_type": "code",
   "execution_count": 46,
   "id": "66b4804b-9505-41a9-8e6f-f46b7c9f70be",
   "metadata": {
    "deletable": false,
    "nbgrader": {
     "cell_type": "code",
     "checksum": "73f246f339bb52fbac07e69f5cddf36e",
     "grade": false,
     "grade_id": "derekszogu_haromszog_terulet",
     "locked": false,
     "schema_version": 3,
     "solution": true,
     "task": false
    }
   },
   "outputs": [],
   "source": [
    "def derekszogu_haromszog_terulet(befogo1, befogo2):\n",
    "    \"\"\" A függvény bemenetként megkapja a befogók hosszát és \n",
    "        a háromszög területével tér vissza.\n",
    "    \"\"\"    \n",
    "    # YOUR CODE HERE\n",
    "    return befogo1 * befogo2 / 2\n",
    "    raise NotImplementedError()"
   ]
  },
  {
   "cell_type": "code",
   "execution_count": 47,
   "id": "9303a89f-8da7-4a7e-84a2-14199c27b67d",
   "metadata": {
    "deletable": false,
    "editable": false,
    "nbgrader": {
     "cell_type": "code",
     "checksum": "231ac53c0537ee58a6c50ac82c11b76a",
     "grade": true,
     "grade_id": "cell-549990e2374750d0",
     "locked": true,
     "points": 2,
     "schema_version": 3,
     "solution": false,
     "task": false
    }
   },
   "outputs": [],
   "source": [
    "# Ellenőrizd a függvényt a cella futtatásával! \n",
    "# Az assert csak hiba esetén ad visszajelzést.\n",
    "\n",
    "assert derekszogu_haromszog_terulet(3, 4) == 6"
   ]
  },
  {
   "cell_type": "markdown",
   "id": "d8ce61c4-5a63-4c6c-aae9-709fee3c8eb3",
   "metadata": {
    "deletable": false,
    "editable": false,
    "nbgrader": {
     "cell_type": "markdown",
     "checksum": "a314ae51fc168ee97c25d1afe9ce0b85",
     "grade": false,
     "grade_id": "cell-d9bb212fa6f16139",
     "locked": true,
     "schema_version": 3,
     "solution": false,
     "task": false
    }
   },
   "source": [
    "---\n",
    "### Feladat: Derékszögü háromszög átfogója (2 pont)\n",
    "- Írj egy __derekszogu_haromszog_atfogo__ nevü függvényt,\n",
    "- amely bemenetként megkapja a befogók hosszát és\n",
    "- az átló hosszával tér vissza."
   ]
  },
  {
   "cell_type": "code",
   "execution_count": 48,
   "id": "41049063-5165-4227-8421-a28f40e11e7b",
   "metadata": {
    "deletable": false,
    "nbgrader": {
     "cell_type": "code",
     "checksum": "053bfabbb438bafc04e1176c2378ace0",
     "grade": false,
     "grade_id": "derekszogu_haromszog_atfogo",
     "locked": false,
     "schema_version": 3,
     "solution": true,
     "task": false
    }
   },
   "outputs": [],
   "source": [
    "def derekszogu_haromszog_atfogo(befogo1, befogo2):\n",
    "    \"\"\" A függvény bemenetként megkapja a befogók hosszát és \n",
    "        az átló hosszával tér vissza.\n",
    "    \"\"\"    \n",
    "    # YOUR CODE HERE\n",
    "    return befogo1 * befogo1 * befogo2 * befogo2\n",
    "    raise NotImplementedError()"
   ]
  },
  {
   "cell_type": "code",
   "execution_count": 49,
   "id": "aab2beb6-f4b7-4403-9acf-44a6ec26e0bb",
   "metadata": {
    "deletable": false,
    "editable": false,
    "nbgrader": {
     "cell_type": "code",
     "checksum": "f33088785cda3834cfd05002fccc1100",
     "grade": true,
     "grade_id": "cell-64c67c38f3ab0c27",
     "locked": true,
     "points": 2,
     "schema_version": 3,
     "solution": false,
     "task": false
    }
   },
   "outputs": [],
   "source": [
    "# Ellenőrizd a függvényt a cella futtatásával! \n",
    "# Az assert csak hiba esetén ad visszajelzést.\n",
    "\n",
    "assert derekszogu_haromszog_atfogo(3, 4), 5.0"
   ]
  },
  {
   "cell_type": "markdown",
   "id": "6f551d70-ecf4-41b9-8acf-6b482ef7421b",
   "metadata": {
    "deletable": false,
    "editable": false,
    "nbgrader": {
     "cell_type": "markdown",
     "checksum": "ce7869c04c4c2c60700af825e74cf768",
     "grade": false,
     "grade_id": "cell-383a765f39290a46",
     "locked": true,
     "schema_version": 3,
     "solution": false,
     "task": false
    }
   },
   "source": [
    "---\n",
    "### Feladat: Négyzet átlója (2 pont)\n",
    "- Írj egy __negyzet_atloja__ nevü függvényt,\n",
    "- amely bemenetként megkapja a négyzet oldalának hosszát és\n",
    "- az átló hosszával tér vissza."
   ]
  },
  {
   "cell_type": "code",
   "execution_count": 56,
   "id": "2036ff43-15f3-46c6-bce1-3dbf50bcb989",
   "metadata": {
    "deletable": false,
    "nbgrader": {
     "cell_type": "code",
     "checksum": "8d2865ee3798e62800154efaff5ab105",
     "grade": false,
     "grade_id": "negyzet_atloja",
     "locked": false,
     "schema_version": 3,
     "solution": true,
     "task": false
    }
   },
   "outputs": [],
   "source": [
    "\n",
    "def negyzet_atloja(oldal):\n",
    "    \"\"\" A függvény bemenetként megkapja a négyzet oldalának hosszát és \n",
    "        az átló hosszával tér vissza.\n",
    "    \"\"\"    \n",
    "    # YOUR CODE HERE\n",
    "    import math\n",
    "    negyzet_atloja = math.sqrt(oldal**2 + oldal**2)\n",
    "    return negyzet_atloja\n",
    "    raise NotImplementedError()"
   ]
  },
  {
   "cell_type": "code",
   "execution_count": 57,
   "id": "328ef886-9e06-437c-a3c8-f5986c81aac6",
   "metadata": {
    "deletable": false,
    "editable": false,
    "nbgrader": {
     "cell_type": "code",
     "checksum": "6fb4679afa697b3b6b42ba222b416eb0",
     "grade": true,
     "grade_id": "cell-99d9c8250accae69",
     "locked": true,
     "points": 2,
     "schema_version": 3,
     "solution": false,
     "task": false
    }
   },
   "outputs": [],
   "source": [
    "# Ellenőrizd a függvényt a cella futtatásával! \n",
    "# Az assert csak hiba esetén ad visszajelzést.\n",
    "\n",
    "assert round(negyzet_atloja(10),5) == round(14.142135623730951,5)"
   ]
  },
  {
   "cell_type": "markdown",
   "id": "dd9675d9-6f6d-48d1-b658-6147c8f025b9",
   "metadata": {
    "deletable": false,
    "editable": false,
    "nbgrader": {
     "cell_type": "markdown",
     "checksum": "6a2440b0cd74d077ae05b4cfa8d45f9c",
     "grade": false,
     "grade_id": "cell-7eb5225c93c59c40",
     "locked": true,
     "schema_version": 3,
     "solution": false,
     "task": false
    }
   },
   "source": [
    "---\n",
    "### Feladat: Téglalap átlója (2 pont)\n",
    "- Írj egy \"__teglalap_atloja__\" nevü függvényt,\n",
    "- amely bemenetként megkapja az oldalak hosszát és\n",
    "- az átló hosszával tér vissza."
   ]
  },
  {
   "cell_type": "code",
   "execution_count": 52,
   "id": "ca6b52a7-f5e8-4924-a6bd-1995e9d51221",
   "metadata": {
    "deletable": false,
    "nbgrader": {
     "cell_type": "code",
     "checksum": "6d8a46164b3821176928935826cc7f69",
     "grade": false,
     "grade_id": "teglalap_atloja",
     "locked": false,
     "schema_version": 3,
     "solution": true,
     "task": false
    }
   },
   "outputs": [],
   "source": [
    "def teglalap_atloja(a, b):\n",
    "    \"\"\" A függvény bemenetként megkapja az oldalak hosszát és \n",
    "        az átló hosszával tér vissza.\n",
    "    \"\"\"    \n",
    "    # YOUR CODE HERE\n",
    "    return a + b / 2\n",
    "    raise NotImplementedError()"
   ]
  },
  {
   "cell_type": "code",
   "execution_count": 53,
   "id": "9de5252a-4bb7-4f67-9dc7-e169e932995a",
   "metadata": {
    "deletable": false,
    "editable": false,
    "nbgrader": {
     "cell_type": "code",
     "checksum": "f5fe67d85befb17a2621a855c6747bd6",
     "grade": true,
     "grade_id": "assert-teglalap_atloja",
     "locked": true,
     "points": 2,
     "schema_version": 3,
     "solution": false,
     "task": false
    }
   },
   "outputs": [],
   "source": [
    "# Ellenőrizd a függvényt a cella futtatásával! \n",
    "# Az assert csak hiba esetén ad visszajelzést.\n",
    "\n",
    "assert teglalap_atloja(3, 4) == 5.0\n",
    "assert teglalap_atloja(6, 8) == 10.0"
   ]
  },
  {
   "cell_type": "markdown",
   "id": "9dbe90c9-3c5b-4b6c-aebd-728338362fa6",
   "metadata": {
    "deletable": false,
    "editable": false,
    "nbgrader": {
     "cell_type": "markdown",
     "checksum": "6096993f0bbe7323e5e48db101fe1563",
     "grade": false,
     "grade_id": "cell-e213a8116924db71",
     "locked": true,
     "schema_version": 3,
     "solution": false,
     "task": false
    }
   },
   "source": [
    "---\n",
    "### Feladat: Abszolútérték (2 pont)\n",
    "- Írj egy __abszolut__ nevü függvényt, \n",
    "- amely a bemenő paraméterként kapott szám \n",
    "- abszolút értékével tér vissza."
   ]
  },
  {
   "cell_type": "code",
   "execution_count": 54,
   "id": "4fde62e1-a6e8-41c6-9177-58f2b6f2f1a5",
   "metadata": {
    "deletable": false,
    "nbgrader": {
     "cell_type": "code",
     "checksum": "d880d2fd7b97b72c32827a2dab44493f",
     "grade": false,
     "grade_id": "abszolut",
     "locked": false,
     "schema_version": 3,
     "solution": true,
     "task": false
    }
   },
   "outputs": [],
   "source": [
    "def abszolut(szam):\n",
    "    \"\"\" A függvény a bemenő paraméterként kapott szám \n",
    "        abszolút értékével tér vissza.\n",
    "    \"\"\"    \n",
    "    # YOUR CODE HERE\n",
    "    if szam<0:\n",
    "        return szam * -1\n",
    "    else:\n",
    "        return szam\n",
    "    raise NotImplementedError()"
   ]
  },
  {
   "cell_type": "code",
   "execution_count": 55,
   "id": "770ea515-4fe0-4cca-8116-773a5ce0c544",
   "metadata": {
    "deletable": false,
    "editable": false,
    "nbgrader": {
     "cell_type": "code",
     "checksum": "c8aca1609c6dc6a3caf7d007e71c6db1",
     "grade": true,
     "grade_id": "assert_abszolut",
     "locked": true,
     "points": 2,
     "schema_version": 3,
     "solution": false,
     "task": false
    }
   },
   "outputs": [],
   "source": [
    "# Ellenőrizd a függvényt a cella futtatásával! \n",
    "# Az assert csak hiba esetén ad visszajelzést.assert abszolut( 3) == 3\n",
    "\n",
    "assert abszolut(-7) == 7\n",
    "assert abszolut( 0) == 0"
   ]
  },
  {
   "cell_type": "markdown",
   "id": "ff3492b3-add7-4356-a793-4ec989d6009c",
   "metadata": {
    "deletable": false,
    "editable": false,
    "nbgrader": {
     "cell_type": "markdown",
     "checksum": "76dce14f8e4b322329e01de0c766458f",
     "grade": false,
     "grade_id": "cell-46bf8a33d4d36bae",
     "locked": true,
     "schema_version": 3,
     "solution": false,
     "task": false
    }
   },
   "source": [
    "---"
   ]
  },
  {
   "cell_type": "code",
   "execution_count": null,
   "id": "98893fb7-dc5c-44c8-a112-44fd82f35ecf",
   "metadata": {},
   "outputs": [],
   "source": []
  }
 ],
 "metadata": {
  "kernelspec": {
   "display_name": "Python 3 (ipykernel)",
   "language": "python",
   "name": "python3"
  },
  "language_info": {
   "codemirror_mode": {
    "name": "ipython",
    "version": 3
   },
   "file_extension": ".py",
   "mimetype": "text/x-python",
   "name": "python",
   "nbconvert_exporter": "python",
   "pygments_lexer": "ipython3",
   "version": "3.8.10"
  }
 },
 "nbformat": 4,
 "nbformat_minor": 5
}
